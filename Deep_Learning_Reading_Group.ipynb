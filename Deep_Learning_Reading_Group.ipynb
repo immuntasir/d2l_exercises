{
  "nbformat": 4,
  "nbformat_minor": 0,
  "metadata": {
    "colab": {
      "name": "Deep Learning Reading Group",
      "provenance": []
    },
    "kernelspec": {
      "name": "python3",
      "display_name": "Python 3"
    },
    "language_info": {
      "name": "python"
    },
    "accelerator": "GPU"
  },
  "cells": [
    {
      "cell_type": "code",
      "metadata": {
        "id": "Igdv685g29zH"
      },
      "source": [
        "#Install Anaconda: https://docs.anaconda.com/anaconda/install/\n",
        "\n",
        "#!conda install pytorch torchvision torchaudio cudatoolkit=10.2 -c pytorch"
      ],
      "execution_count": null,
      "outputs": []
    },
    {
      "cell_type": "code",
      "metadata": {
        "id": "F762hy7Q2efD"
      },
      "source": [
        "import torch"
      ],
      "execution_count": 1,
      "outputs": []
    },
    {
      "cell_type": "code",
      "metadata": {
        "colab": {
          "base_uri": "https://localhost:8080/"
        },
        "id": "NzalOai32hFG",
        "outputId": "a40fe6b1-1f50-437f-c2bd-8a4910d4ae40"
      },
      "source": [
        "print(torch.cuda.is_available())"
      ],
      "execution_count": 2,
      "outputs": [
        {
          "output_type": "stream",
          "text": [
            "True\n"
          ],
          "name": "stdout"
        }
      ]
    },
    {
      "cell_type": "code",
      "metadata": {
        "id": "aw6ObTRh2mU7"
      },
      "source": [
        "#ARC: https://arc.vt.edu/"
      ],
      "execution_count": null,
      "outputs": []
    }
  ]
}