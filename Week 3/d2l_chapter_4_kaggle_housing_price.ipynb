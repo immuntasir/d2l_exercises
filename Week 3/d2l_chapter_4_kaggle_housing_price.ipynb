{
  "nbformat": 4,
  "nbformat_minor": 0,
  "metadata": {
    "colab": {
      "name": "d2l_chapter_4_kaggle_housing_price.ipynb",
      "provenance": [],
      "collapsed_sections": []
    },
    "kernelspec": {
      "name": "python3",
      "display_name": "Python 3"
    },
    "language_info": {
      "name": "python"
    },
    "accelerator": "GPU"
  },
  "cells": [
    {
      "cell_type": "code",
      "metadata": {
        "id": "xTy2HM6bi6ji"
      },
      "source": [
        "import hashlib\n",
        "import os\n",
        "import tarfile\n",
        "import zipfile\n",
        "import requests\n",
        "\n",
        "DATA_HUB = dict()\n",
        "DATA_URL = 'http://d2l-data.s3-accelerate.amazonaws.com/'"
      ],
      "execution_count": 1,
      "outputs": []
    },
    {
      "cell_type": "code",
      "metadata": {
        "id": "pIzCX4HgjDXE"
      },
      "source": [
        "def download(name, cache_dir=os.path.join('..', 'data')):  \n",
        "    \"\"\"Download a file inserted into DATA_HUB, return the local filename.\"\"\"\n",
        "    assert name in DATA_HUB, f\"{name} does not exist in {DATA_HUB}.\"\n",
        "    url, sha1_hash = DATA_HUB[name]\n",
        "    os.makedirs(cache_dir, exist_ok=True)\n",
        "    fname = os.path.join(cache_dir, url.split('/')[-1])\n",
        "    if os.path.exists(fname):\n",
        "        sha1 = hashlib.sha1()\n",
        "        with open(fname, 'rb') as f:\n",
        "            while True:\n",
        "                data = f.read(1048576)\n",
        "                if not data:\n",
        "                    break\n",
        "                sha1.update(data)\n",
        "        if sha1.hexdigest() == sha1_hash:\n",
        "            return fname  # Hit cache\n",
        "    print(f'Downloading {fname} from {url}...')\n",
        "    r = requests.get(url, stream=True, verify=True)\n",
        "    with open(fname, 'wb') as f:\n",
        "        f.write(r.content)\n",
        "    return fname"
      ],
      "execution_count": 2,
      "outputs": []
    },
    {
      "cell_type": "code",
      "metadata": {
        "id": "ThGq8dfojHSW"
      },
      "source": [
        "def download_extract(name, folder=None): \n",
        "    \"\"\"Download and extract a zip/tar file.\"\"\"\n",
        "    fname = download(name)\n",
        "    base_dir = os.path.dirname(fname)\n",
        "    data_dir, ext = os.path.splitext(fname)\n",
        "    if ext == '.zip':\n",
        "        fp = zipfile.ZipFile(fname, 'r')\n",
        "    elif ext in ('.tar', '.gz'):\n",
        "        fp = tarfile.open(fname, 'r')\n",
        "    else:\n",
        "        assert False, 'Only zip/tar files can be extracted.'\n",
        "    fp.extractall(base_dir)\n",
        "    return os.path.join(base_dir, folder) if folder else data_dir\n",
        "\n",
        "def download_all():  \n",
        "    \"\"\"Download all files in the DATA_HUB.\"\"\"\n",
        "    for name in DATA_HUB:\n",
        "        download(name)"
      ],
      "execution_count": 3,
      "outputs": []
    },
    {
      "cell_type": "code",
      "metadata": {
        "colab": {
          "base_uri": "https://localhost:8080/"
        },
        "id": "yQdNU2NFjNDU",
        "outputId": "cfa5884d-795c-4be4-d016-862e2f15abfb"
      },
      "source": [
        "!pip install d2l"
      ],
      "execution_count": 4,
      "outputs": [
        {
          "output_type": "stream",
          "text": [
            "Collecting d2l\n",
            "\u001b[?25l  Downloading https://files.pythonhosted.org/packages/b4/36/f516fb7cf742c3feeceea8def1cb0cb918f8d4e7fc7e1f16ed0e17985772/d2l-0.16.5-py3-none-any.whl (77kB)\n",
            "\u001b[K     |████████████████████████████████| 81kB 3.6MB/s \n",
            "\u001b[?25hRequirement already satisfied: numpy in /usr/local/lib/python3.7/dist-packages (from d2l) (1.19.5)\n",
            "Requirement already satisfied: requests in /usr/local/lib/python3.7/dist-packages (from d2l) (2.23.0)\n",
            "Requirement already satisfied: jupyter in /usr/local/lib/python3.7/dist-packages (from d2l) (1.0.0)\n",
            "Requirement already satisfied: pandas in /usr/local/lib/python3.7/dist-packages (from d2l) (1.1.5)\n",
            "Requirement already satisfied: matplotlib in /usr/local/lib/python3.7/dist-packages (from d2l) (3.2.2)\n",
            "Requirement already satisfied: urllib3!=1.25.0,!=1.25.1,<1.26,>=1.21.1 in /usr/local/lib/python3.7/dist-packages (from requests->d2l) (1.24.3)\n",
            "Requirement already satisfied: chardet<4,>=3.0.2 in /usr/local/lib/python3.7/dist-packages (from requests->d2l) (3.0.4)\n",
            "Requirement already satisfied: certifi>=2017.4.17 in /usr/local/lib/python3.7/dist-packages (from requests->d2l) (2020.12.5)\n",
            "Requirement already satisfied: idna<3,>=2.5 in /usr/local/lib/python3.7/dist-packages (from requests->d2l) (2.10)\n",
            "Requirement already satisfied: qtconsole in /usr/local/lib/python3.7/dist-packages (from jupyter->d2l) (5.1.0)\n",
            "Requirement already satisfied: ipywidgets in /usr/local/lib/python3.7/dist-packages (from jupyter->d2l) (7.6.3)\n",
            "Requirement already satisfied: ipykernel in /usr/local/lib/python3.7/dist-packages (from jupyter->d2l) (4.10.1)\n",
            "Requirement already satisfied: notebook in /usr/local/lib/python3.7/dist-packages (from jupyter->d2l) (5.3.1)\n",
            "Requirement already satisfied: nbconvert in /usr/local/lib/python3.7/dist-packages (from jupyter->d2l) (5.6.1)\n",
            "Requirement already satisfied: jupyter-console in /usr/local/lib/python3.7/dist-packages (from jupyter->d2l) (5.2.0)\n",
            "Requirement already satisfied: pytz>=2017.2 in /usr/local/lib/python3.7/dist-packages (from pandas->d2l) (2018.9)\n",
            "Requirement already satisfied: python-dateutil>=2.7.3 in /usr/local/lib/python3.7/dist-packages (from pandas->d2l) (2.8.1)\n",
            "Requirement already satisfied: cycler>=0.10 in /usr/local/lib/python3.7/dist-packages (from matplotlib->d2l) (0.10.0)\n",
            "Requirement already satisfied: pyparsing!=2.0.4,!=2.1.2,!=2.1.6,>=2.0.1 in /usr/local/lib/python3.7/dist-packages (from matplotlib->d2l) (2.4.7)\n",
            "Requirement already satisfied: kiwisolver>=1.0.1 in /usr/local/lib/python3.7/dist-packages (from matplotlib->d2l) (1.3.1)\n",
            "Requirement already satisfied: pyzmq>=17.1 in /usr/local/lib/python3.7/dist-packages (from qtconsole->jupyter->d2l) (22.0.3)\n",
            "Requirement already satisfied: pygments in /usr/local/lib/python3.7/dist-packages (from qtconsole->jupyter->d2l) (2.6.1)\n",
            "Requirement already satisfied: jupyter-core in /usr/local/lib/python3.7/dist-packages (from qtconsole->jupyter->d2l) (4.7.1)\n",
            "Requirement already satisfied: traitlets in /usr/local/lib/python3.7/dist-packages (from qtconsole->jupyter->d2l) (5.0.5)\n",
            "Requirement already satisfied: ipython-genutils in /usr/local/lib/python3.7/dist-packages (from qtconsole->jupyter->d2l) (0.2.0)\n",
            "Requirement already satisfied: qtpy in /usr/local/lib/python3.7/dist-packages (from qtconsole->jupyter->d2l) (1.9.0)\n",
            "Requirement already satisfied: jupyter-client>=4.1 in /usr/local/lib/python3.7/dist-packages (from qtconsole->jupyter->d2l) (5.3.5)\n",
            "Requirement already satisfied: widgetsnbextension~=3.5.0 in /usr/local/lib/python3.7/dist-packages (from ipywidgets->jupyter->d2l) (3.5.1)\n",
            "Requirement already satisfied: nbformat>=4.2.0 in /usr/local/lib/python3.7/dist-packages (from ipywidgets->jupyter->d2l) (5.1.3)\n",
            "Requirement already satisfied: ipython>=4.0.0; python_version >= \"3.3\" in /usr/local/lib/python3.7/dist-packages (from ipywidgets->jupyter->d2l) (5.5.0)\n",
            "Requirement already satisfied: jupyterlab-widgets>=1.0.0; python_version >= \"3.6\" in /usr/local/lib/python3.7/dist-packages (from ipywidgets->jupyter->d2l) (1.0.0)\n",
            "Requirement already satisfied: tornado>=4.0 in /usr/local/lib/python3.7/dist-packages (from ipykernel->jupyter->d2l) (5.1.1)\n",
            "Requirement already satisfied: Send2Trash in /usr/local/lib/python3.7/dist-packages (from notebook->jupyter->d2l) (1.5.0)\n",
            "Requirement already satisfied: terminado>=0.8.1 in /usr/local/lib/python3.7/dist-packages (from notebook->jupyter->d2l) (0.10.0)\n",
            "Requirement already satisfied: jinja2 in /usr/local/lib/python3.7/dist-packages (from notebook->jupyter->d2l) (2.11.3)\n",
            "Requirement already satisfied: pandocfilters>=1.4.1 in /usr/local/lib/python3.7/dist-packages (from nbconvert->jupyter->d2l) (1.4.3)\n",
            "Requirement already satisfied: testpath in /usr/local/lib/python3.7/dist-packages (from nbconvert->jupyter->d2l) (0.5.0)\n",
            "Requirement already satisfied: mistune<2,>=0.8.1 in /usr/local/lib/python3.7/dist-packages (from nbconvert->jupyter->d2l) (0.8.4)\n",
            "Requirement already satisfied: bleach in /usr/local/lib/python3.7/dist-packages (from nbconvert->jupyter->d2l) (3.3.0)\n",
            "Requirement already satisfied: entrypoints>=0.2.2 in /usr/local/lib/python3.7/dist-packages (from nbconvert->jupyter->d2l) (0.3)\n",
            "Requirement already satisfied: defusedxml in /usr/local/lib/python3.7/dist-packages (from nbconvert->jupyter->d2l) (0.7.1)\n",
            "Requirement already satisfied: prompt-toolkit<2.0.0,>=1.0.0 in /usr/local/lib/python3.7/dist-packages (from jupyter-console->jupyter->d2l) (1.0.18)\n",
            "Requirement already satisfied: six>=1.5 in /usr/local/lib/python3.7/dist-packages (from python-dateutil>=2.7.3->pandas->d2l) (1.15.0)\n",
            "Requirement already satisfied: jsonschema!=2.5.0,>=2.4 in /usr/local/lib/python3.7/dist-packages (from nbformat>=4.2.0->ipywidgets->jupyter->d2l) (2.6.0)\n",
            "Requirement already satisfied: decorator in /usr/local/lib/python3.7/dist-packages (from ipython>=4.0.0; python_version >= \"3.3\"->ipywidgets->jupyter->d2l) (4.4.2)\n",
            "Requirement already satisfied: setuptools>=18.5 in /usr/local/lib/python3.7/dist-packages (from ipython>=4.0.0; python_version >= \"3.3\"->ipywidgets->jupyter->d2l) (57.0.0)\n",
            "Requirement already satisfied: pexpect; sys_platform != \"win32\" in /usr/local/lib/python3.7/dist-packages (from ipython>=4.0.0; python_version >= \"3.3\"->ipywidgets->jupyter->d2l) (4.8.0)\n",
            "Requirement already satisfied: pickleshare in /usr/local/lib/python3.7/dist-packages (from ipython>=4.0.0; python_version >= \"3.3\"->ipywidgets->jupyter->d2l) (0.7.5)\n",
            "Requirement already satisfied: simplegeneric>0.8 in /usr/local/lib/python3.7/dist-packages (from ipython>=4.0.0; python_version >= \"3.3\"->ipywidgets->jupyter->d2l) (0.8.1)\n",
            "Requirement already satisfied: ptyprocess; os_name != \"nt\" in /usr/local/lib/python3.7/dist-packages (from terminado>=0.8.1->notebook->jupyter->d2l) (0.7.0)\n",
            "Requirement already satisfied: MarkupSafe>=0.23 in /usr/local/lib/python3.7/dist-packages (from jinja2->notebook->jupyter->d2l) (2.0.1)\n",
            "Requirement already satisfied: packaging in /usr/local/lib/python3.7/dist-packages (from bleach->nbconvert->jupyter->d2l) (20.9)\n",
            "Requirement already satisfied: webencodings in /usr/local/lib/python3.7/dist-packages (from bleach->nbconvert->jupyter->d2l) (0.5.1)\n",
            "Requirement already satisfied: wcwidth in /usr/local/lib/python3.7/dist-packages (from prompt-toolkit<2.0.0,>=1.0.0->jupyter-console->jupyter->d2l) (0.2.5)\n",
            "Installing collected packages: d2l\n",
            "Successfully installed d2l-0.16.5\n"
          ],
          "name": "stdout"
        }
      ]
    },
    {
      "cell_type": "code",
      "metadata": {
        "id": "3GmjW1hzjeDP"
      },
      "source": [
        "%matplotlib inline\n",
        "import numpy as np\n",
        "import pandas as pd\n",
        "import torch\n",
        "from torch import nn\n",
        "from d2l import torch as d2l\n",
        "from torch.optim import lr_scheduler"
      ],
      "execution_count": 5,
      "outputs": []
    },
    {
      "cell_type": "code",
      "metadata": {
        "id": "qWU8jdGKjeU8"
      },
      "source": [
        "DATA_HUB['kaggle_house_train'] = (  \n",
        "    DATA_URL + 'kaggle_house_pred_train.csv',\n",
        "    '585e9cc93e70b39160e7921475f9bcd7d31219ce')\n",
        "\n",
        "DATA_HUB['kaggle_house_test'] = (  \n",
        "    DATA_URL + 'kaggle_house_pred_test.csv',\n",
        "    'fa19780a7b011d9b009e8bff8e99922a8ee2eb90')"
      ],
      "execution_count": 6,
      "outputs": []
    },
    {
      "cell_type": "code",
      "metadata": {
        "colab": {
          "base_uri": "https://localhost:8080/"
        },
        "id": "AsCuMKjjjjDM",
        "outputId": "e63e057f-3790-427b-db9c-ce8f22c007b7"
      },
      "source": [
        "train_data = pd.read_csv(download('kaggle_house_train'))\n",
        "test_data = pd.read_csv(download('kaggle_house_test'))"
      ],
      "execution_count": 7,
      "outputs": [
        {
          "output_type": "stream",
          "text": [
            "Downloading ../data/kaggle_house_pred_train.csv from http://d2l-data.s3-accelerate.amazonaws.com/kaggle_house_pred_train.csv...\n",
            "Downloading ../data/kaggle_house_pred_test.csv from http://d2l-data.s3-accelerate.amazonaws.com/kaggle_house_pred_test.csv...\n"
          ],
          "name": "stdout"
        }
      ]
    },
    {
      "cell_type": "code",
      "metadata": {
        "colab": {
          "base_uri": "https://localhost:8080/"
        },
        "id": "UBL77s1Ujkxk",
        "outputId": "a785db96-71aa-457e-d41a-121b32598072"
      },
      "source": [
        "print(train_data.shape)\n",
        "print(test_data.shape)"
      ],
      "execution_count": 8,
      "outputs": [
        {
          "output_type": "stream",
          "text": [
            "(1460, 81)\n",
            "(1459, 80)\n"
          ],
          "name": "stdout"
        }
      ]
    },
    {
      "cell_type": "code",
      "metadata": {
        "colab": {
          "base_uri": "https://localhost:8080/"
        },
        "id": "KSlR4nzLjmjL",
        "outputId": "1282adfb-1acb-43f8-e85e-81744d464a0f"
      },
      "source": [
        "print(train_data.iloc[0:4, [0, 1, 2, 3, -3, -2, -1]])"
      ],
      "execution_count": 9,
      "outputs": [
        {
          "output_type": "stream",
          "text": [
            "   Id  MSSubClass MSZoning  LotFrontage SaleType SaleCondition  SalePrice\n",
            "0   1          60       RL         65.0       WD        Normal     208500\n",
            "1   2          20       RL         80.0       WD        Normal     181500\n",
            "2   3          60       RL         68.0       WD        Normal     223500\n",
            "3   4          70       RL         60.0       WD       Abnorml     140000\n"
          ],
          "name": "stdout"
        }
      ]
    },
    {
      "cell_type": "code",
      "metadata": {
        "id": "8KjxQwDtjoHz"
      },
      "source": [
        "all_features = pd.concat((train_data.iloc[:, 1:-1], test_data.iloc[:, 1:]))"
      ],
      "execution_count": 10,
      "outputs": []
    },
    {
      "cell_type": "code",
      "metadata": {
        "id": "h09_yEtxjsK7"
      },
      "source": [
        "numeric_features = all_features.dtypes[all_features.dtypes != 'object'].index\n",
        "all_features[numeric_features] = all_features[numeric_features].apply(\n",
        "    lambda x: (x - x.mean()) / (x.std()))\n",
        "\n",
        "all_features[numeric_features] = all_features[numeric_features].fillna(0)"
      ],
      "execution_count": 11,
      "outputs": []
    },
    {
      "cell_type": "code",
      "metadata": {
        "colab": {
          "base_uri": "https://localhost:8080/"
        },
        "id": "X8UR2EYkj5QE",
        "outputId": "efddebc4-252e-47ab-9a43-833ef612cb85"
      },
      "source": [
        "all_features = pd.get_dummies(all_features, dummy_na=True)\n",
        "all_features.shape"
      ],
      "execution_count": 12,
      "outputs": [
        {
          "output_type": "execute_result",
          "data": {
            "text/plain": [
              "(2919, 331)"
            ]
          },
          "metadata": {
            "tags": []
          },
          "execution_count": 12
        }
      ]
    },
    {
      "cell_type": "code",
      "metadata": {
        "id": "oAf4Za4Ej8Iz"
      },
      "source": [
        "n_train = train_data.shape[0]\n",
        "train_features = torch.tensor(all_features[:n_train].values,\n",
        "                              dtype=torch.float32)\n",
        "test_features = torch.tensor(all_features[n_train:].values,\n",
        "                             dtype=torch.float32)\n",
        "train_labels = torch.tensor(train_data.SalePrice.values.reshape(-1, 1),\n",
        "                            dtype=torch.float32)\n",
        "log_train_labels = np.log(train_labels)"
      ],
      "execution_count": 13,
      "outputs": []
    },
    {
      "cell_type": "code",
      "metadata": {
        "id": "0B5M8bEyj9zi"
      },
      "source": [
        "loss = nn.MSELoss()\n",
        "in_features = train_features.shape[1]\n",
        "\n",
        "def get_net():\n",
        "    net = nn.Sequential(nn.Linear(in_features, 256),\n",
        "                        nn.ReLU(),\n",
        "                        #nn.Dropout(p=0.1, inplace=False),\n",
        "                        nn.Linear(256, 64),\n",
        "                        nn.ReLU(),\n",
        "                        nn.Linear(64, 32),\n",
        "                        nn.ReLU(),\n",
        "                        nn.Linear(32, 1))\n",
        "    return net"
      ],
      "execution_count": 14,
      "outputs": []
    },
    {
      "cell_type": "code",
      "metadata": {
        "id": "LkHYj4p6j_er"
      },
      "source": [
        "def log_rmse(net, features, labels):\n",
        "    # To further stabilize the value when the logarithm is taken, set the\n",
        "    # value less than 1 as 1\n",
        "    clipped_preds = torch.clamp(net(features), 1, float('inf'))\n",
        "    rmse = torch.sqrt(loss(torch.log(clipped_preds), torch.log(labels)))\n",
        "    return rmse.item()"
      ],
      "execution_count": 15,
      "outputs": []
    },
    {
      "cell_type": "code",
      "metadata": {
        "id": "uu9CfRKPkA6a"
      },
      "source": [
        "def train(net, train_features, train_labels, test_features, test_labels,\n",
        "          num_epochs, learning_rate, weight_decay, batch_size):\n",
        "    train_ls, test_ls = [], []\n",
        "    train_iter = d2l.load_array((train_features, train_labels), batch_size)\n",
        "    # The Adam optimization algorithm is used here\n",
        "    optimizer = torch.optim.Adam(net.parameters(), lr=learning_rate,\n",
        "                                 weight_decay=weight_decay)\n",
        "    #lambda1 = lambda epoch: epoch//30\n",
        "    #scheduler = lr_scheduler.LambdaLR(optimizer, lr_lambda=lambda1)\n",
        "    for epoch in range(num_epochs):\n",
        "        for X, y in train_iter:\n",
        "            optimizer.zero_grad()\n",
        "            l = loss(net(X), y)\n",
        "            l.backward()\n",
        "            optimizer.step()\n",
        "        #scheduler.step()\n",
        "        train_ls.append(log_rmse(net, train_features, train_labels))\n",
        "        if test_labels is not None:\n",
        "            test_ls.append(log_rmse(net, test_features, test_labels))\n",
        "\n",
        "    #print(scheduler.get_last_lr())\n",
        "    return train_ls, test_ls"
      ],
      "execution_count": 16,
      "outputs": []
    },
    {
      "cell_type": "code",
      "metadata": {
        "id": "L3XZfzjgkCL7"
      },
      "source": [
        "def get_k_fold_data(k, i, X, y):\n",
        "    assert k > 1\n",
        "    fold_size = X.shape[0] // k\n",
        "    X_train, y_train = None, None\n",
        "    for j in range(k):\n",
        "        idx = slice(j * fold_size, (j + 1) * fold_size)\n",
        "        X_part, y_part = X[idx, :], y[idx]\n",
        "        if j == i:\n",
        "            X_valid, y_valid = X_part, y_part\n",
        "        elif X_train is None:\n",
        "            X_train, y_train = X_part, y_part\n",
        "        else:\n",
        "            X_train = torch.cat([X_train, X_part], 0)\n",
        "            y_train = torch.cat([y_train, y_part], 0)\n",
        "    return X_train, y_train, X_valid, y_valid"
      ],
      "execution_count": 17,
      "outputs": []
    },
    {
      "cell_type": "code",
      "metadata": {
        "id": "6MgHHfwIkDpL"
      },
      "source": [
        "def init_weights(m):\n",
        "  if type(m) == nn.Linear:\n",
        "      nn.init.xavier_uniform_(m.weight)\n",
        "\n",
        "def k_fold(k, X_train, y_train, num_epochs, learning_rate, weight_decay,\n",
        "           batch_size, log_values=False):\n",
        "    train_l_sum, valid_l_sum = 0, 0\n",
        "    if log_values:\n",
        "      y_train = np.log(y_train)\n",
        "    for i in range(k):\n",
        "        data = get_k_fold_data(k, i, X_train, y_train)\n",
        "        net = get_net()\n",
        "\n",
        "        net.apply(init_weights);\n",
        "        train_ls, valid_ls = train(net, *data, num_epochs, learning_rate,\n",
        "                                   weight_decay, batch_size)\n",
        "        train_l_sum += train_ls[-1]\n",
        "        valid_l_sum += valid_ls[-1]\n",
        "        if i == 0:\n",
        "            d2l.plot(list(range(1, num_epochs + 1)), [train_ls, valid_ls],\n",
        "                     xlabel='epoch', ylabel='rmse', xlim=[1, num_epochs],\n",
        "                     legend=['train', 'valid'], yscale='log')\n",
        "        print(f'fold {i + 1}, train log rmse {float(train_ls[-1]):f}, '\n",
        "              f'valid log rmse {float(valid_ls[-1]):f}')\n",
        "    return train_l_sum / k, valid_l_sum / k"
      ],
      "execution_count": 18,
      "outputs": []
    },
    {
      "cell_type": "code",
      "metadata": {
        "colab": {
          "base_uri": "https://localhost:8080/",
          "height": 368
        },
        "id": "4Hnj009wkHiq",
        "outputId": "4a7bcaaa-ff11-47d1-ffcc-7e4484ce2b96"
      },
      "source": [
        "k, num_epochs, lr, weight_decay, batch_size = 5, 1000, .001, 0.075, 512\n",
        "#k, num_epochs, lr, weight_decay, batch_size = 5, 500, .005, 0.05, 512\n",
        "LOG_VALUES = True\n",
        "train_l, valid_l = k_fold(k, train_features, train_labels, num_epochs, lr,\n",
        "                          weight_decay, batch_size, log_values=LOG_VALUES)\n",
        "print(f'{k}-fold validation: avg train log rmse: {float(train_l):f}, '\n",
        "      f'avg valid log rmse: {float(valid_l):f}')"
      ],
      "execution_count": 20,
      "outputs": [
        {
          "output_type": "stream",
          "text": [
            "fold 1, train log rmse 0.014272, valid log rmse 0.016846\n",
            "fold 2, train log rmse 0.012369, valid log rmse 0.017570\n",
            "fold 3, train log rmse 0.013052, valid log rmse 0.016125\n",
            "fold 4, train log rmse 0.012994, valid log rmse 0.014068\n",
            "fold 5, train log rmse 0.012322, valid log rmse 0.017756\n",
            "5-fold validation: avg train log rmse: 0.013002, avg valid log rmse: 0.016473\n"
          ],
          "name": "stdout"
        },
        {
          "output_type": "display_data",
          "data": {
            "text/plain": [
              "<Figure size 252x180 with 1 Axes>"
            ],
            "image/svg+xml": "<?xml version=\"1.0\" encoding=\"utf-8\" standalone=\"no\"?>\n<!DOCTYPE svg PUBLIC \"-//W3C//DTD SVG 1.1//EN\"\n  \"http://www.w3.org/Graphics/SVG/1.1/DTD/svg11.dtd\">\n<!-- Created with matplotlib (https://matplotlib.org/) -->\n<svg height=\"180.65625pt\" version=\"1.1\" viewBox=\"0 0 266.603125 180.65625\" width=\"266.603125pt\" xmlns=\"http://www.w3.org/2000/svg\" xmlns:xlink=\"http://www.w3.org/1999/xlink\">\n <defs>\n  <style type=\"text/css\">\n*{stroke-linecap:butt;stroke-linejoin:round;}\n  </style>\n </defs>\n <g id=\"figure_1\">\n  <g id=\"patch_1\">\n   <path d=\"M 0 180.65625 \nL 266.603125 180.65625 \nL 266.603125 0 \nL 0 0 \nz\n\" style=\"fill:none;\"/>\n  </g>\n  <g id=\"axes_1\">\n   <g id=\"patch_2\">\n    <path d=\"M 51.378125 143.1 \nL 246.678125 143.1 \nL 246.678125 7.2 \nL 51.378125 7.2 \nz\n\" style=\"fill:#ffffff;\"/>\n   </g>\n   <g id=\"matplotlib.axis_1\">\n    <g id=\"xtick_1\">\n     <g id=\"line2d_1\">\n      <path clip-path=\"url(#pe1a18f3c3e)\" d=\"M 90.281729 143.1 \nL 90.281729 7.2 \n\" style=\"fill:none;stroke:#b0b0b0;stroke-linecap:square;stroke-width:0.8;\"/>\n     </g>\n     <g id=\"line2d_2\">\n      <defs>\n       <path d=\"M 0 0 \nL 0 3.5 \n\" id=\"mb91b44b850\" style=\"stroke:#000000;stroke-width:0.8;\"/>\n      </defs>\n      <g>\n       <use style=\"stroke:#000000;stroke-width:0.8;\" x=\"90.281729\" xlink:href=\"#mb91b44b850\" y=\"143.1\"/>\n      </g>\n     </g>\n     <g id=\"text_1\">\n      <!-- 200 -->\n      <defs>\n       <path d=\"M 19.1875 8.296875 \nL 53.609375 8.296875 \nL 53.609375 0 \nL 7.328125 0 \nL 7.328125 8.296875 \nQ 12.9375 14.109375 22.625 23.890625 \nQ 32.328125 33.6875 34.8125 36.53125 \nQ 39.546875 41.84375 41.421875 45.53125 \nQ 43.3125 49.21875 43.3125 52.78125 \nQ 43.3125 58.59375 39.234375 62.25 \nQ 35.15625 65.921875 28.609375 65.921875 \nQ 23.96875 65.921875 18.8125 64.3125 \nQ 13.671875 62.703125 7.8125 59.421875 \nL 7.8125 69.390625 \nQ 13.765625 71.78125 18.9375 73 \nQ 24.125 74.21875 28.421875 74.21875 \nQ 39.75 74.21875 46.484375 68.546875 \nQ 53.21875 62.890625 53.21875 53.421875 \nQ 53.21875 48.921875 51.53125 44.890625 \nQ 49.859375 40.875 45.40625 35.40625 \nQ 44.1875 33.984375 37.640625 27.21875 \nQ 31.109375 20.453125 19.1875 8.296875 \nz\n\" id=\"DejaVuSans-50\"/>\n       <path d=\"M 31.78125 66.40625 \nQ 24.171875 66.40625 20.328125 58.90625 \nQ 16.5 51.421875 16.5 36.375 \nQ 16.5 21.390625 20.328125 13.890625 \nQ 24.171875 6.390625 31.78125 6.390625 \nQ 39.453125 6.390625 43.28125 13.890625 \nQ 47.125 21.390625 47.125 36.375 \nQ 47.125 51.421875 43.28125 58.90625 \nQ 39.453125 66.40625 31.78125 66.40625 \nz\nM 31.78125 74.21875 \nQ 44.046875 74.21875 50.515625 64.515625 \nQ 56.984375 54.828125 56.984375 36.375 \nQ 56.984375 17.96875 50.515625 8.265625 \nQ 44.046875 -1.421875 31.78125 -1.421875 \nQ 19.53125 -1.421875 13.0625 8.265625 \nQ 6.59375 17.96875 6.59375 36.375 \nQ 6.59375 54.828125 13.0625 64.515625 \nQ 19.53125 74.21875 31.78125 74.21875 \nz\n\" id=\"DejaVuSans-48\"/>\n      </defs>\n      <g transform=\"translate(80.737979 157.698438)scale(0.1 -0.1)\">\n       <use xlink:href=\"#DejaVuSans-50\"/>\n       <use x=\"63.623047\" xlink:href=\"#DejaVuSans-48\"/>\n       <use x=\"127.246094\" xlink:href=\"#DejaVuSans-48\"/>\n      </g>\n     </g>\n    </g>\n    <g id=\"xtick_2\">\n     <g id=\"line2d_3\">\n      <path clip-path=\"url(#pe1a18f3c3e)\" d=\"M 129.380828 143.1 \nL 129.380828 7.2 \n\" style=\"fill:none;stroke:#b0b0b0;stroke-linecap:square;stroke-width:0.8;\"/>\n     </g>\n     <g id=\"line2d_4\">\n      <g>\n       <use style=\"stroke:#000000;stroke-width:0.8;\" x=\"129.380828\" xlink:href=\"#mb91b44b850\" y=\"143.1\"/>\n      </g>\n     </g>\n     <g id=\"text_2\">\n      <!-- 400 -->\n      <defs>\n       <path d=\"M 37.796875 64.3125 \nL 12.890625 25.390625 \nL 37.796875 25.390625 \nz\nM 35.203125 72.90625 \nL 47.609375 72.90625 \nL 47.609375 25.390625 \nL 58.015625 25.390625 \nL 58.015625 17.1875 \nL 47.609375 17.1875 \nL 47.609375 0 \nL 37.796875 0 \nL 37.796875 17.1875 \nL 4.890625 17.1875 \nL 4.890625 26.703125 \nz\n\" id=\"DejaVuSans-52\"/>\n      </defs>\n      <g transform=\"translate(119.837078 157.698438)scale(0.1 -0.1)\">\n       <use xlink:href=\"#DejaVuSans-52\"/>\n       <use x=\"63.623047\" xlink:href=\"#DejaVuSans-48\"/>\n       <use x=\"127.246094\" xlink:href=\"#DejaVuSans-48\"/>\n      </g>\n     </g>\n    </g>\n    <g id=\"xtick_3\">\n     <g id=\"line2d_5\">\n      <path clip-path=\"url(#pe1a18f3c3e)\" d=\"M 168.479927 143.1 \nL 168.479927 7.2 \n\" style=\"fill:none;stroke:#b0b0b0;stroke-linecap:square;stroke-width:0.8;\"/>\n     </g>\n     <g id=\"line2d_6\">\n      <g>\n       <use style=\"stroke:#000000;stroke-width:0.8;\" x=\"168.479927\" xlink:href=\"#mb91b44b850\" y=\"143.1\"/>\n      </g>\n     </g>\n     <g id=\"text_3\">\n      <!-- 600 -->\n      <defs>\n       <path d=\"M 33.015625 40.375 \nQ 26.375 40.375 22.484375 35.828125 \nQ 18.609375 31.296875 18.609375 23.390625 \nQ 18.609375 15.53125 22.484375 10.953125 \nQ 26.375 6.390625 33.015625 6.390625 \nQ 39.65625 6.390625 43.53125 10.953125 \nQ 47.40625 15.53125 47.40625 23.390625 \nQ 47.40625 31.296875 43.53125 35.828125 \nQ 39.65625 40.375 33.015625 40.375 \nz\nM 52.59375 71.296875 \nL 52.59375 62.3125 \nQ 48.875 64.0625 45.09375 64.984375 \nQ 41.3125 65.921875 37.59375 65.921875 \nQ 27.828125 65.921875 22.671875 59.328125 \nQ 17.53125 52.734375 16.796875 39.40625 \nQ 19.671875 43.65625 24.015625 45.921875 \nQ 28.375 48.1875 33.59375 48.1875 \nQ 44.578125 48.1875 50.953125 41.515625 \nQ 57.328125 34.859375 57.328125 23.390625 \nQ 57.328125 12.15625 50.6875 5.359375 \nQ 44.046875 -1.421875 33.015625 -1.421875 \nQ 20.359375 -1.421875 13.671875 8.265625 \nQ 6.984375 17.96875 6.984375 36.375 \nQ 6.984375 53.65625 15.1875 63.9375 \nQ 23.390625 74.21875 37.203125 74.21875 \nQ 40.921875 74.21875 44.703125 73.484375 \nQ 48.484375 72.75 52.59375 71.296875 \nz\n\" id=\"DejaVuSans-54\"/>\n      </defs>\n      <g transform=\"translate(158.936177 157.698438)scale(0.1 -0.1)\">\n       <use xlink:href=\"#DejaVuSans-54\"/>\n       <use x=\"63.623047\" xlink:href=\"#DejaVuSans-48\"/>\n       <use x=\"127.246094\" xlink:href=\"#DejaVuSans-48\"/>\n      </g>\n     </g>\n    </g>\n    <g id=\"xtick_4\">\n     <g id=\"line2d_7\">\n      <path clip-path=\"url(#pe1a18f3c3e)\" d=\"M 207.579026 143.1 \nL 207.579026 7.2 \n\" style=\"fill:none;stroke:#b0b0b0;stroke-linecap:square;stroke-width:0.8;\"/>\n     </g>\n     <g id=\"line2d_8\">\n      <g>\n       <use style=\"stroke:#000000;stroke-width:0.8;\" x=\"207.579026\" xlink:href=\"#mb91b44b850\" y=\"143.1\"/>\n      </g>\n     </g>\n     <g id=\"text_4\">\n      <!-- 800 -->\n      <defs>\n       <path d=\"M 31.78125 34.625 \nQ 24.75 34.625 20.71875 30.859375 \nQ 16.703125 27.09375 16.703125 20.515625 \nQ 16.703125 13.921875 20.71875 10.15625 \nQ 24.75 6.390625 31.78125 6.390625 \nQ 38.8125 6.390625 42.859375 10.171875 \nQ 46.921875 13.96875 46.921875 20.515625 \nQ 46.921875 27.09375 42.890625 30.859375 \nQ 38.875 34.625 31.78125 34.625 \nz\nM 21.921875 38.8125 \nQ 15.578125 40.375 12.03125 44.71875 \nQ 8.5 49.078125 8.5 55.328125 \nQ 8.5 64.0625 14.71875 69.140625 \nQ 20.953125 74.21875 31.78125 74.21875 \nQ 42.671875 74.21875 48.875 69.140625 \nQ 55.078125 64.0625 55.078125 55.328125 \nQ 55.078125 49.078125 51.53125 44.71875 \nQ 48 40.375 41.703125 38.8125 \nQ 48.828125 37.15625 52.796875 32.3125 \nQ 56.78125 27.484375 56.78125 20.515625 \nQ 56.78125 9.90625 50.3125 4.234375 \nQ 43.84375 -1.421875 31.78125 -1.421875 \nQ 19.734375 -1.421875 13.25 4.234375 \nQ 6.78125 9.90625 6.78125 20.515625 \nQ 6.78125 27.484375 10.78125 32.3125 \nQ 14.796875 37.15625 21.921875 38.8125 \nz\nM 18.3125 54.390625 \nQ 18.3125 48.734375 21.84375 45.5625 \nQ 25.390625 42.390625 31.78125 42.390625 \nQ 38.140625 42.390625 41.71875 45.5625 \nQ 45.3125 48.734375 45.3125 54.390625 \nQ 45.3125 60.0625 41.71875 63.234375 \nQ 38.140625 66.40625 31.78125 66.40625 \nQ 25.390625 66.40625 21.84375 63.234375 \nQ 18.3125 60.0625 18.3125 54.390625 \nz\n\" id=\"DejaVuSans-56\"/>\n      </defs>\n      <g transform=\"translate(198.035276 157.698438)scale(0.1 -0.1)\">\n       <use xlink:href=\"#DejaVuSans-56\"/>\n       <use x=\"63.623047\" xlink:href=\"#DejaVuSans-48\"/>\n       <use x=\"127.246094\" xlink:href=\"#DejaVuSans-48\"/>\n      </g>\n     </g>\n    </g>\n    <g id=\"xtick_5\">\n     <g id=\"line2d_9\">\n      <path clip-path=\"url(#pe1a18f3c3e)\" d=\"M 246.678125 143.1 \nL 246.678125 7.2 \n\" style=\"fill:none;stroke:#b0b0b0;stroke-linecap:square;stroke-width:0.8;\"/>\n     </g>\n     <g id=\"line2d_10\">\n      <g>\n       <use style=\"stroke:#000000;stroke-width:0.8;\" x=\"246.678125\" xlink:href=\"#mb91b44b850\" y=\"143.1\"/>\n      </g>\n     </g>\n     <g id=\"text_5\">\n      <!-- 1000 -->\n      <defs>\n       <path d=\"M 12.40625 8.296875 \nL 28.515625 8.296875 \nL 28.515625 63.921875 \nL 10.984375 60.40625 \nL 10.984375 69.390625 \nL 28.421875 72.90625 \nL 38.28125 72.90625 \nL 38.28125 8.296875 \nL 54.390625 8.296875 \nL 54.390625 0 \nL 12.40625 0 \nz\n\" id=\"DejaVuSans-49\"/>\n      </defs>\n      <g transform=\"translate(233.953125 157.698438)scale(0.1 -0.1)\">\n       <use xlink:href=\"#DejaVuSans-49\"/>\n       <use x=\"63.623047\" xlink:href=\"#DejaVuSans-48\"/>\n       <use x=\"127.246094\" xlink:href=\"#DejaVuSans-48\"/>\n       <use x=\"190.869141\" xlink:href=\"#DejaVuSans-48\"/>\n      </g>\n     </g>\n    </g>\n    <g id=\"text_6\">\n     <!-- epoch -->\n     <defs>\n      <path d=\"M 56.203125 29.59375 \nL 56.203125 25.203125 \nL 14.890625 25.203125 \nQ 15.484375 15.921875 20.484375 11.0625 \nQ 25.484375 6.203125 34.421875 6.203125 \nQ 39.59375 6.203125 44.453125 7.46875 \nQ 49.3125 8.734375 54.109375 11.28125 \nL 54.109375 2.78125 \nQ 49.265625 0.734375 44.1875 -0.34375 \nQ 39.109375 -1.421875 33.890625 -1.421875 \nQ 20.796875 -1.421875 13.15625 6.1875 \nQ 5.515625 13.8125 5.515625 26.8125 \nQ 5.515625 40.234375 12.765625 48.109375 \nQ 20.015625 56 32.328125 56 \nQ 43.359375 56 49.78125 48.890625 \nQ 56.203125 41.796875 56.203125 29.59375 \nz\nM 47.21875 32.234375 \nQ 47.125 39.59375 43.09375 43.984375 \nQ 39.0625 48.390625 32.421875 48.390625 \nQ 24.90625 48.390625 20.390625 44.140625 \nQ 15.875 39.890625 15.1875 32.171875 \nz\n\" id=\"DejaVuSans-101\"/>\n      <path d=\"M 18.109375 8.203125 \nL 18.109375 -20.796875 \nL 9.078125 -20.796875 \nL 9.078125 54.6875 \nL 18.109375 54.6875 \nL 18.109375 46.390625 \nQ 20.953125 51.265625 25.265625 53.625 \nQ 29.59375 56 35.59375 56 \nQ 45.5625 56 51.78125 48.09375 \nQ 58.015625 40.1875 58.015625 27.296875 \nQ 58.015625 14.40625 51.78125 6.484375 \nQ 45.5625 -1.421875 35.59375 -1.421875 \nQ 29.59375 -1.421875 25.265625 0.953125 \nQ 20.953125 3.328125 18.109375 8.203125 \nz\nM 48.6875 27.296875 \nQ 48.6875 37.203125 44.609375 42.84375 \nQ 40.53125 48.484375 33.40625 48.484375 \nQ 26.265625 48.484375 22.1875 42.84375 \nQ 18.109375 37.203125 18.109375 27.296875 \nQ 18.109375 17.390625 22.1875 11.75 \nQ 26.265625 6.109375 33.40625 6.109375 \nQ 40.53125 6.109375 44.609375 11.75 \nQ 48.6875 17.390625 48.6875 27.296875 \nz\n\" id=\"DejaVuSans-112\"/>\n      <path d=\"M 30.609375 48.390625 \nQ 23.390625 48.390625 19.1875 42.75 \nQ 14.984375 37.109375 14.984375 27.296875 \nQ 14.984375 17.484375 19.15625 11.84375 \nQ 23.34375 6.203125 30.609375 6.203125 \nQ 37.796875 6.203125 41.984375 11.859375 \nQ 46.1875 17.53125 46.1875 27.296875 \nQ 46.1875 37.015625 41.984375 42.703125 \nQ 37.796875 48.390625 30.609375 48.390625 \nz\nM 30.609375 56 \nQ 42.328125 56 49.015625 48.375 \nQ 55.71875 40.765625 55.71875 27.296875 \nQ 55.71875 13.875 49.015625 6.21875 \nQ 42.328125 -1.421875 30.609375 -1.421875 \nQ 18.84375 -1.421875 12.171875 6.21875 \nQ 5.515625 13.875 5.515625 27.296875 \nQ 5.515625 40.765625 12.171875 48.375 \nQ 18.84375 56 30.609375 56 \nz\n\" id=\"DejaVuSans-111\"/>\n      <path d=\"M 48.78125 52.59375 \nL 48.78125 44.1875 \nQ 44.96875 46.296875 41.140625 47.34375 \nQ 37.3125 48.390625 33.40625 48.390625 \nQ 24.65625 48.390625 19.8125 42.84375 \nQ 14.984375 37.3125 14.984375 27.296875 \nQ 14.984375 17.28125 19.8125 11.734375 \nQ 24.65625 6.203125 33.40625 6.203125 \nQ 37.3125 6.203125 41.140625 7.25 \nQ 44.96875 8.296875 48.78125 10.40625 \nL 48.78125 2.09375 \nQ 45.015625 0.34375 40.984375 -0.53125 \nQ 36.96875 -1.421875 32.421875 -1.421875 \nQ 20.0625 -1.421875 12.78125 6.34375 \nQ 5.515625 14.109375 5.515625 27.296875 \nQ 5.515625 40.671875 12.859375 48.328125 \nQ 20.21875 56 33.015625 56 \nQ 37.15625 56 41.109375 55.140625 \nQ 45.0625 54.296875 48.78125 52.59375 \nz\n\" id=\"DejaVuSans-99\"/>\n      <path d=\"M 54.890625 33.015625 \nL 54.890625 0 \nL 45.90625 0 \nL 45.90625 32.71875 \nQ 45.90625 40.484375 42.875 44.328125 \nQ 39.84375 48.1875 33.796875 48.1875 \nQ 26.515625 48.1875 22.3125 43.546875 \nQ 18.109375 38.921875 18.109375 30.90625 \nL 18.109375 0 \nL 9.078125 0 \nL 9.078125 75.984375 \nL 18.109375 75.984375 \nL 18.109375 46.1875 \nQ 21.34375 51.125 25.703125 53.5625 \nQ 30.078125 56 35.796875 56 \nQ 45.21875 56 50.046875 50.171875 \nQ 54.890625 44.34375 54.890625 33.015625 \nz\n\" id=\"DejaVuSans-104\"/>\n     </defs>\n     <g transform=\"translate(133.8 171.376563)scale(0.1 -0.1)\">\n      <use xlink:href=\"#DejaVuSans-101\"/>\n      <use x=\"61.523438\" xlink:href=\"#DejaVuSans-112\"/>\n      <use x=\"125\" xlink:href=\"#DejaVuSans-111\"/>\n      <use x=\"186.181641\" xlink:href=\"#DejaVuSans-99\"/>\n      <use x=\"241.162109\" xlink:href=\"#DejaVuSans-104\"/>\n     </g>\n    </g>\n   </g>\n   <g id=\"matplotlib.axis_2\">\n    <g id=\"ytick_1\">\n     <g id=\"line2d_11\">\n      <path clip-path=\"url(#pe1a18f3c3e)\" d=\"M 51.378125 141.242873 \nL 246.678125 141.242873 \n\" style=\"fill:none;stroke:#b0b0b0;stroke-linecap:square;stroke-width:0.8;\"/>\n     </g>\n     <g id=\"line2d_12\">\n      <defs>\n       <path d=\"M 0 0 \nL -3.5 0 \n\" id=\"mbb857e4624\" style=\"stroke:#000000;stroke-width:0.8;\"/>\n      </defs>\n      <g>\n       <use style=\"stroke:#000000;stroke-width:0.8;\" x=\"51.378125\" xlink:href=\"#mbb857e4624\" y=\"141.242873\"/>\n      </g>\n     </g>\n     <g id=\"text_7\">\n      <!-- $\\mathdefault{10^{-2}}$ -->\n      <defs>\n       <path d=\"M 10.59375 35.5 \nL 73.1875 35.5 \nL 73.1875 27.203125 \nL 10.59375 27.203125 \nz\n\" id=\"DejaVuSans-8722\"/>\n      </defs>\n      <g transform=\"translate(20.878125 145.042092)scale(0.1 -0.1)\">\n       <use transform=\"translate(0 0.765625)\" xlink:href=\"#DejaVuSans-49\"/>\n       <use transform=\"translate(63.623047 0.765625)\" xlink:href=\"#DejaVuSans-48\"/>\n       <use transform=\"translate(128.203125 39.046875)scale(0.7)\" xlink:href=\"#DejaVuSans-8722\"/>\n       <use transform=\"translate(186.855469 39.046875)scale(0.7)\" xlink:href=\"#DejaVuSans-50\"/>\n      </g>\n     </g>\n    </g>\n    <g id=\"ytick_2\">\n     <g id=\"line2d_13\">\n      <path clip-path=\"url(#pe1a18f3c3e)\" d=\"M 51.378125 84.695587 \nL 246.678125 84.695587 \n\" style=\"fill:none;stroke:#b0b0b0;stroke-linecap:square;stroke-width:0.8;\"/>\n     </g>\n     <g id=\"line2d_14\">\n      <g>\n       <use style=\"stroke:#000000;stroke-width:0.8;\" x=\"51.378125\" xlink:href=\"#mbb857e4624\" y=\"84.695587\"/>\n      </g>\n     </g>\n     <g id=\"text_8\">\n      <!-- $\\mathdefault{10^{-1}}$ -->\n      <g transform=\"translate(20.878125 88.494805)scale(0.1 -0.1)\">\n       <use transform=\"translate(0 0.684375)\" xlink:href=\"#DejaVuSans-49\"/>\n       <use transform=\"translate(63.623047 0.684375)\" xlink:href=\"#DejaVuSans-48\"/>\n       <use transform=\"translate(128.203125 38.965625)scale(0.7)\" xlink:href=\"#DejaVuSans-8722\"/>\n       <use transform=\"translate(186.855469 38.965625)scale(0.7)\" xlink:href=\"#DejaVuSans-49\"/>\n      </g>\n     </g>\n    </g>\n    <g id=\"ytick_3\">\n     <g id=\"line2d_15\">\n      <path clip-path=\"url(#pe1a18f3c3e)\" d=\"M 51.378125 28.148301 \nL 246.678125 28.148301 \n\" style=\"fill:none;stroke:#b0b0b0;stroke-linecap:square;stroke-width:0.8;\"/>\n     </g>\n     <g id=\"line2d_16\">\n      <g>\n       <use style=\"stroke:#000000;stroke-width:0.8;\" x=\"51.378125\" xlink:href=\"#mbb857e4624\" y=\"28.148301\"/>\n      </g>\n     </g>\n     <g id=\"text_9\">\n      <!-- $\\mathdefault{10^{0}}$ -->\n      <g transform=\"translate(26.778125 31.947519)scale(0.1 -0.1)\">\n       <use transform=\"translate(0 0.765625)\" xlink:href=\"#DejaVuSans-49\"/>\n       <use transform=\"translate(63.623047 0.765625)\" xlink:href=\"#DejaVuSans-48\"/>\n       <use transform=\"translate(128.203125 39.046875)scale(0.7)\" xlink:href=\"#DejaVuSans-48\"/>\n      </g>\n     </g>\n    </g>\n    <g id=\"ytick_4\">\n     <g id=\"line2d_17\">\n      <defs>\n       <path d=\"M 0 0 \nL -2 0 \n\" id=\"m005339b220\" style=\"stroke:#000000;stroke-width:0.6;\"/>\n      </defs>\n      <g>\n       <use style=\"stroke:#000000;stroke-width:0.6;\" x=\"51.378125\" xlink:href=\"#m005339b220\" y=\"124.220444\"/>\n      </g>\n     </g>\n    </g>\n    <g id=\"ytick_5\">\n     <g id=\"line2d_18\">\n      <g>\n       <use style=\"stroke:#000000;stroke-width:0.6;\" x=\"51.378125\" xlink:href=\"#m005339b220\" y=\"114.262961\"/>\n      </g>\n     </g>\n    </g>\n    <g id=\"ytick_6\">\n     <g id=\"line2d_19\">\n      <g>\n       <use style=\"stroke:#000000;stroke-width:0.6;\" x=\"51.378125\" xlink:href=\"#m005339b220\" y=\"107.198014\"/>\n      </g>\n     </g>\n    </g>\n    <g id=\"ytick_7\">\n     <g id=\"line2d_20\">\n      <g>\n       <use style=\"stroke:#000000;stroke-width:0.6;\" x=\"51.378125\" xlink:href=\"#m005339b220\" y=\"101.718016\"/>\n      </g>\n     </g>\n    </g>\n    <g id=\"ytick_8\">\n     <g id=\"line2d_21\">\n      <g>\n       <use style=\"stroke:#000000;stroke-width:0.6;\" x=\"51.378125\" xlink:href=\"#m005339b220\" y=\"97.240531\"/>\n      </g>\n     </g>\n    </g>\n    <g id=\"ytick_9\">\n     <g id=\"line2d_22\">\n      <g>\n       <use style=\"stroke:#000000;stroke-width:0.6;\" x=\"51.378125\" xlink:href=\"#m005339b220\" y=\"93.454872\"/>\n      </g>\n     </g>\n    </g>\n    <g id=\"ytick_10\">\n     <g id=\"line2d_23\">\n      <g>\n       <use style=\"stroke:#000000;stroke-width:0.6;\" x=\"51.378125\" xlink:href=\"#m005339b220\" y=\"90.175585\"/>\n      </g>\n     </g>\n    </g>\n    <g id=\"ytick_11\">\n     <g id=\"line2d_24\">\n      <g>\n       <use style=\"stroke:#000000;stroke-width:0.6;\" x=\"51.378125\" xlink:href=\"#m005339b220\" y=\"87.283049\"/>\n      </g>\n     </g>\n    </g>\n    <g id=\"ytick_12\">\n     <g id=\"line2d_25\">\n      <g>\n       <use style=\"stroke:#000000;stroke-width:0.6;\" x=\"51.378125\" xlink:href=\"#m005339b220\" y=\"67.673157\"/>\n      </g>\n     </g>\n    </g>\n    <g id=\"ytick_13\">\n     <g id=\"line2d_26\">\n      <g>\n       <use style=\"stroke:#000000;stroke-width:0.6;\" x=\"51.378125\" xlink:href=\"#m005339b220\" y=\"57.715675\"/>\n      </g>\n     </g>\n    </g>\n    <g id=\"ytick_14\">\n     <g id=\"line2d_27\">\n      <g>\n       <use style=\"stroke:#000000;stroke-width:0.6;\" x=\"51.378125\" xlink:href=\"#m005339b220\" y=\"50.650728\"/>\n      </g>\n     </g>\n    </g>\n    <g id=\"ytick_15\">\n     <g id=\"line2d_28\">\n      <g>\n       <use style=\"stroke:#000000;stroke-width:0.6;\" x=\"51.378125\" xlink:href=\"#m005339b220\" y=\"45.17073\"/>\n      </g>\n     </g>\n    </g>\n    <g id=\"ytick_16\">\n     <g id=\"line2d_29\">\n      <g>\n       <use style=\"stroke:#000000;stroke-width:0.6;\" x=\"51.378125\" xlink:href=\"#m005339b220\" y=\"40.693245\"/>\n      </g>\n     </g>\n    </g>\n    <g id=\"ytick_17\">\n     <g id=\"line2d_30\">\n      <g>\n       <use style=\"stroke:#000000;stroke-width:0.6;\" x=\"51.378125\" xlink:href=\"#m005339b220\" y=\"36.907586\"/>\n      </g>\n     </g>\n    </g>\n    <g id=\"ytick_18\">\n     <g id=\"line2d_31\">\n      <g>\n       <use style=\"stroke:#000000;stroke-width:0.6;\" x=\"51.378125\" xlink:href=\"#m005339b220\" y=\"33.628299\"/>\n      </g>\n     </g>\n    </g>\n    <g id=\"ytick_19\">\n     <g id=\"line2d_32\">\n      <g>\n       <use style=\"stroke:#000000;stroke-width:0.6;\" x=\"51.378125\" xlink:href=\"#m005339b220\" y=\"30.735762\"/>\n      </g>\n     </g>\n    </g>\n    <g id=\"ytick_20\">\n     <g id=\"line2d_33\">\n      <g>\n       <use style=\"stroke:#000000;stroke-width:0.6;\" x=\"51.378125\" xlink:href=\"#m005339b220\" y=\"11.125871\"/>\n      </g>\n     </g>\n    </g>\n    <g id=\"text_10\">\n     <!-- rmse -->\n     <defs>\n      <path d=\"M 41.109375 46.296875 \nQ 39.59375 47.171875 37.8125 47.578125 \nQ 36.03125 48 33.890625 48 \nQ 26.265625 48 22.1875 43.046875 \nQ 18.109375 38.09375 18.109375 28.8125 \nL 18.109375 0 \nL 9.078125 0 \nL 9.078125 54.6875 \nL 18.109375 54.6875 \nL 18.109375 46.1875 \nQ 20.953125 51.171875 25.484375 53.578125 \nQ 30.03125 56 36.53125 56 \nQ 37.453125 56 38.578125 55.875 \nQ 39.703125 55.765625 41.0625 55.515625 \nz\n\" id=\"DejaVuSans-114\"/>\n      <path d=\"M 52 44.1875 \nQ 55.375 50.25 60.0625 53.125 \nQ 64.75 56 71.09375 56 \nQ 79.640625 56 84.28125 50.015625 \nQ 88.921875 44.046875 88.921875 33.015625 \nL 88.921875 0 \nL 79.890625 0 \nL 79.890625 32.71875 \nQ 79.890625 40.578125 77.09375 44.375 \nQ 74.3125 48.1875 68.609375 48.1875 \nQ 61.625 48.1875 57.5625 43.546875 \nQ 53.515625 38.921875 53.515625 30.90625 \nL 53.515625 0 \nL 44.484375 0 \nL 44.484375 32.71875 \nQ 44.484375 40.625 41.703125 44.40625 \nQ 38.921875 48.1875 33.109375 48.1875 \nQ 26.21875 48.1875 22.15625 43.53125 \nQ 18.109375 38.875 18.109375 30.90625 \nL 18.109375 0 \nL 9.078125 0 \nL 9.078125 54.6875 \nL 18.109375 54.6875 \nL 18.109375 46.1875 \nQ 21.1875 51.21875 25.484375 53.609375 \nQ 29.78125 56 35.6875 56 \nQ 41.65625 56 45.828125 52.96875 \nQ 50 49.953125 52 44.1875 \nz\n\" id=\"DejaVuSans-109\"/>\n      <path d=\"M 44.28125 53.078125 \nL 44.28125 44.578125 \nQ 40.484375 46.53125 36.375 47.5 \nQ 32.28125 48.484375 27.875 48.484375 \nQ 21.1875 48.484375 17.84375 46.4375 \nQ 14.5 44.390625 14.5 40.28125 \nQ 14.5 37.15625 16.890625 35.375 \nQ 19.28125 33.59375 26.515625 31.984375 \nL 29.59375 31.296875 \nQ 39.15625 29.25 43.1875 25.515625 \nQ 47.21875 21.78125 47.21875 15.09375 \nQ 47.21875 7.46875 41.1875 3.015625 \nQ 35.15625 -1.421875 24.609375 -1.421875 \nQ 20.21875 -1.421875 15.453125 -0.5625 \nQ 10.6875 0.296875 5.421875 2 \nL 5.421875 11.28125 \nQ 10.40625 8.6875 15.234375 7.390625 \nQ 20.0625 6.109375 24.8125 6.109375 \nQ 31.15625 6.109375 34.5625 8.28125 \nQ 37.984375 10.453125 37.984375 14.40625 \nQ 37.984375 18.0625 35.515625 20.015625 \nQ 33.0625 21.96875 24.703125 23.78125 \nL 21.578125 24.515625 \nQ 13.234375 26.265625 9.515625 29.90625 \nQ 5.8125 33.546875 5.8125 39.890625 \nQ 5.8125 47.609375 11.28125 51.796875 \nQ 16.75 56 26.8125 56 \nQ 31.78125 56 36.171875 55.265625 \nQ 40.578125 54.546875 44.28125 53.078125 \nz\n\" id=\"DejaVuSans-115\"/>\n     </defs>\n     <g transform=\"translate(14.798437 87.669531)rotate(-90)scale(0.1 -0.1)\">\n      <use xlink:href=\"#DejaVuSans-114\"/>\n      <use x=\"39.363281\" xlink:href=\"#DejaVuSans-109\"/>\n      <use x=\"136.775391\" xlink:href=\"#DejaVuSans-115\"/>\n      <use x=\"188.875\" xlink:href=\"#DejaVuSans-101\"/>\n     </g>\n    </g>\n   </g>\n   <g id=\"line2d_34\">\n    <path clip-path=\"url(#pe1a18f3c3e)\" d=\"M 51.378125 13.816852 \nL 51.769116 43.765808 \nL 51.964611 78.039576 \nL 52.355602 60.850377 \nL 52.551098 71.131279 \nL 52.746593 97.12762 \nL 53.137584 73.211502 \nL 53.33308 75.192797 \nL 53.528575 86.695909 \nL 53.724071 105.771804 \nL 54.115062 92.016772 \nL 54.310557 98.534571 \nL 54.506053 110.314225 \nL 54.897044 100.835018 \nL 55.092539 104.197847 \nL 55.288035 111.763821 \nL 55.48353 112.960345 \nL 55.679026 110.871434 \nL 56.070017 115.565139 \nL 56.461008 114.142864 \nL 56.851999 117.560101 \nL 57.24299 118.268359 \nL 57.438485 118.989833 \nL 57.829476 119.107753 \nL 58.415963 120.895808 \nL 58.806954 121.641461 \nL 59.197945 122.06104 \nL 59.979927 123.484407 \nL 60.370918 124.006491 \nL 60.957404 124.988074 \nL 61.348395 125.37268 \nL 61.543891 125.468912 \nL 61.934882 126.127733 \nL 63.30335 127.448601 \nL 63.694341 127.695669 \nL 64.280828 128.24137 \nL 67.017765 130.019594 \nL 67.604251 130.251136 \nL 67.995242 130.442358 \nL 68.97272 130.81769 \nL 69.168215 130.807512 \nL 70.145693 131.358921 \nL 70.536684 131.479265 \nL 70.927675 131.687382 \nL 72.296143 132.02749 \nL 72.88263 132.230389 \nL 73.27362 132.256205 \nL 73.664611 132.19627 \nL 73.860107 132.448203 \nL 74.642089 132.5415 \nL 75.424071 132.80609 \nL 75.619566 132.846164 \nL 75.815062 132.764816 \nL 76.792539 132.991294 \nL 76.988035 132.884402 \nL 77.379026 133.127067 \nL 77.574521 133.076642 \nL 77.770017 133.141784 \nL 78.161008 132.974963 \nL 78.356503 133.222718 \nL 79.333981 133.296785 \nL 79.529476 133.086091 \nL 79.724972 133.287967 \nL 81.875422 133.521249 \nL 82.070918 133.466955 \nL 82.266413 133.751428 \nL 82.657404 133.664636 \nL 82.8529 133.497209 \nL 83.048395 133.698588 \nL 83.634882 133.727691 \nL 84.025873 133.833874 \nL 84.221368 133.836117 \nL 84.416864 133.984848 \nL 84.612359 133.869307 \nL 85.00335 134.020322 \nL 85.198846 134.114678 \nL 85.394341 133.806416 \nL 85.785332 134.052304 \nL 85.980828 133.88717 \nL 86.371819 134.116431 \nL 86.567314 133.796077 \nL 86.958305 134.079406 \nL 87.153801 133.901203 \nL 87.349296 134.138593 \nL 87.740287 134.035419 \nL 88.131278 134.169656 \nL 89.108756 134.437549 \nL 89.304251 134.316349 \nL 89.695242 134.467529 \nL 89.890738 134.023272 \nL 90.086233 134.337848 \nL 90.281729 134.283197 \nL 90.477224 134.075412 \nL 90.67272 134.332013 \nL 91.454702 134.253231 \nL 91.845693 134.638943 \nL 92.236684 134.624812 \nL 92.432179 134.632381 \nL 92.627675 134.297564 \nL 92.82317 134.602237 \nL 93.018666 134.620202 \nL 93.214161 134.509644 \nL 93.409657 134.597073 \nL 93.605152 134.546283 \nL 93.800648 134.004997 \nL 93.996143 134.361 \nL 94.191639 134.390305 \nL 94.387134 134.209409 \nL 94.58263 134.485476 \nL 94.97362 134.402879 \nL 95.169116 134.044402 \nL 95.364611 134.371925 \nL 95.560107 134.337818 \nL 95.951098 134.678629 \nL 96.146593 134.039033 \nL 96.342089 134.54753 \nL 96.537584 134.432137 \nL 96.928575 134.699571 \nL 97.124071 133.83726 \nL 97.319566 134.382801 \nL 97.515062 134.319681 \nL 97.906053 134.818081 \nL 98.101548 134.368368 \nL 98.297044 134.937038 \nL 98.492539 134.859176 \nL 98.688035 134.952295 \nL 98.88353 134.654578 \nL 99.079026 134.686086 \nL 99.274521 134.836525 \nL 99.470017 134.819333 \nL 99.665512 134.143187 \nL 99.861008 134.245384 \nL 100.447494 134.937202 \nL 100.64299 134.678743 \nL 100.838485 134.940297 \nL 101.033981 134.990239 \nL 101.229476 134.730306 \nL 101.424972 134.895079 \nL 101.620467 134.800391 \nL 101.815963 134.841486 \nL 102.011458 134.996559 \nL 102.206954 134.589772 \nL 102.402449 135.06638 \nL 102.597945 134.737901 \nL 102.79344 134.991615 \nL 102.988936 135.001472 \nL 103.184431 134.558827 \nL 103.379927 134.909239 \nL 103.575422 134.661707 \nL 103.770918 135.179903 \nL 104.161909 135.424216 \nL 104.357404 135.512404 \nL 104.5529 135.223359 \nL 104.748395 135.343469 \nL 104.943891 135.055809 \nL 105.139386 135.272143 \nL 105.725873 135.373463 \nL 105.921368 135.492448 \nL 106.116864 135.167045 \nL 106.312359 135.326921 \nL 106.507855 135.214704 \nL 106.70335 134.572523 \nL 107.094341 135.243142 \nL 107.485332 135.248885 \nL 107.680828 134.884723 \nL 107.876323 135.27676 \nL 108.071819 134.90323 \nL 108.267314 135.311079 \nL 108.46281 135.332086 \nL 108.658305 134.803297 \nL 108.853801 135.201345 \nL 109.049296 135.126343 \nL 109.244792 135.194348 \nL 109.831278 135.091421 \nL 110.026774 135.249288 \nL 110.222269 135.006349 \nL 110.417765 135.250614 \nL 110.61326 135.045944 \nL 110.808756 135.31642 \nL 111.004251 135.329858 \nL 111.395242 135.475634 \nL 111.590738 135.291723 \nL 111.786233 135.561448 \nL 111.981729 135.294603 \nL 112.37272 135.400509 \nL 112.568215 135.512926 \nL 112.959206 135.260344 \nL 113.350197 135.648514 \nL 113.741188 135.3499 \nL 113.936684 135.376413 \nL 114.132179 135.201425 \nL 114.327675 135.496558 \nL 114.914161 135.460701 \nL 115.305152 135.278111 \nL 115.500648 135.722732 \nL 115.696143 135.628336 \nL 116.087134 135.640821 \nL 116.28263 135.409294 \nL 116.67362 135.722067 \nL 116.869116 135.523127 \nL 117.064611 135.76681 \nL 117.651098 135.604091 \nL 117.846593 135.018385 \nL 118.042089 135.507762 \nL 118.237584 135.412169 \nL 118.43308 135.011848 \nL 118.628575 135.913457 \nL 118.824071 135.566274 \nL 119.019566 135.833591 \nL 119.215062 135.792461 \nL 119.410557 135.044531 \nL 119.606053 135.866645 \nL 119.801548 135.531811 \nL 119.997044 135.888004 \nL 120.192539 135.775988 \nL 120.388035 135.880757 \nL 121.170017 135.413527 \nL 121.561008 135.507165 \nL 121.756503 135.35829 \nL 121.951999 135.747336 \nL 122.34299 135.625425 \nL 122.538485 135.447939 \nL 122.733981 134.919735 \nL 123.124972 135.962882 \nL 123.320467 135.205813 \nL 123.515963 135.878867 \nL 123.711458 136.061755 \nL 123.906954 135.916925 \nL 124.102449 136.120562 \nL 124.297945 136.125352 \nL 124.49344 135.628807 \nL 124.688936 135.808926 \nL 124.884431 135.558879 \nL 125.079927 135.86318 \nL 125.275422 135.600701 \nL 125.470918 136.013238 \nL 125.666413 134.790306 \nL 125.861909 135.673273 \nL 126.057404 135.57218 \nL 126.2529 135.902754 \nL 126.448395 135.116927 \nL 126.643891 135.601457 \nL 126.839386 134.425867 \nL 127.034882 134.153417 \nL 127.230377 134.162381 \nL 127.425873 135.260832 \nL 127.621368 134.843502 \nL 127.816864 136.119175 \nL 128.012359 134.602577 \nL 128.207855 134.968963 \nL 128.40335 135.783647 \nL 128.598846 135.344525 \nL 128.794341 135.986645 \nL 128.989837 136.092977 \nL 129.380828 135.989995 \nL 129.576323 135.899848 \nL 129.771819 136.141232 \nL 130.16281 135.829545 \nL 130.358305 134.944206 \nL 130.553801 135.592902 \nL 130.749296 135.460374 \nL 130.944792 135.993465 \nL 131.335783 135.621644 \nL 131.531278 135.359416 \nL 131.726774 135.534689 \nL 131.922269 135.339602 \nL 132.117765 135.994769 \nL 132.31326 135.049785 \nL 132.508756 135.934757 \nL 132.704251 135.829249 \nL 132.899747 135.857457 \nL 133.095242 136.359832 \nL 133.290738 136.318385 \nL 133.486233 136.434085 \nL 134.07272 135.989042 \nL 134.463711 136.160094 \nL 134.659206 135.91423 \nL 134.854702 135.39865 \nL 135.050197 135.224834 \nL 135.245693 133.550231 \nL 135.441188 135.374648 \nL 135.636684 134.897326 \nL 135.832179 136.096598 \nL 136.22317 136.315718 \nL 136.418666 136.099769 \nL 136.614161 136.106105 \nL 136.809657 135.459642 \nL 137.005152 136.048569 \nL 137.200648 135.188061 \nL 137.396143 135.946869 \nL 137.591639 135.952067 \nL 137.787134 136.279029 \nL 137.98263 135.676322 \nL 138.178125 135.951333 \nL 138.37362 135.693556 \nL 138.569116 135.73705 \nL 138.764611 134.645088 \nL 138.960107 135.449973 \nL 139.155602 135.497137 \nL 139.351098 135.723159 \nL 139.546593 135.762801 \nL 139.742089 136.452084 \nL 139.937584 136.30449 \nL 140.13308 135.078791 \nL 140.328575 135.712303 \nL 140.524071 134.99777 \nL 140.719566 135.332823 \nL 140.915062 134.856075 \nL 141.110557 136.285547 \nL 141.306053 135.753559 \nL 141.501548 135.806972 \nL 141.892539 135.302138 \nL 142.088035 136.124918 \nL 142.28353 135.654481 \nL 142.479026 135.778069 \nL 142.674521 136.167234 \nL 142.870017 136.16835 \nL 143.065512 135.854056 \nL 143.261008 135.863244 \nL 143.456503 136.070763 \nL 143.651999 136.066259 \nL 143.847494 135.79351 \nL 144.238485 136.433292 \nL 144.433981 136.071213 \nL 144.824972 136.122528 \nL 145.020467 135.124236 \nL 145.215963 136.062775 \nL 145.411458 136.199071 \nL 145.606954 135.981686 \nL 145.802449 135.523177 \nL 145.997945 136.198487 \nL 146.19344 136.209118 \nL 146.388936 136.365996 \nL 146.584431 136.178985 \nL 146.779927 136.197183 \nL 146.975422 136.534642 \nL 147.170918 136.515824 \nL 147.366413 136.286054 \nL 147.561909 136.594813 \nL 147.757404 136.086115 \nL 147.9529 136.12662 \nL 148.148395 136.487084 \nL 148.343891 136.041238 \nL 148.539386 136.253978 \nL 148.734882 135.990025 \nL 148.930377 136.397418 \nL 149.125873 136.012874 \nL 149.321368 135.99781 \nL 149.516864 135.812151 \nL 149.712359 136.273373 \nL 149.907855 136.073963 \nL 150.10335 134.884137 \nL 150.298846 134.674162 \nL 150.494341 134.943073 \nL 150.689837 135.643905 \nL 151.080828 135.887698 \nL 151.276323 135.466868 \nL 151.471819 136.199032 \nL 151.86281 135.765469 \nL 152.058305 135.9579 \nL 152.253801 136.365062 \nL 152.449296 136.488799 \nL 152.644792 135.093693 \nL 152.840287 135.766122 \nL 153.035783 135.734219 \nL 153.231278 136.16835 \nL 153.622269 135.957033 \nL 153.817765 136.345195 \nL 154.01326 135.961952 \nL 154.208756 136.373923 \nL 154.404251 135.650022 \nL 154.599747 135.409198 \nL 154.795242 133.552958 \nL 154.990738 135.322163 \nL 155.186233 135.058958 \nL 155.381729 135.819146 \nL 155.577224 135.845767 \nL 155.77272 136.708384 \nL 156.554702 136.364949 \nL 156.750197 136.352492 \nL 156.945693 136.027141 \nL 157.141188 136.440829 \nL 157.336684 135.872617 \nL 157.532179 136.603379 \nL 157.727675 136.530122 \nL 157.92317 136.621836 \nL 158.118666 136.180198 \nL 158.314161 136.233412 \nL 158.509657 136.489528 \nL 158.900648 135.851233 \nL 159.096143 134.843336 \nL 159.291639 136.19308 \nL 159.487134 135.28492 \nL 159.68263 136.134168 \nL 159.878125 136.396042 \nL 160.07362 136.123478 \nL 160.269116 135.627088 \nL 160.855602 136.270521 \nL 161.051098 136.214175 \nL 161.246593 135.101233 \nL 161.637584 136.346374 \nL 161.83308 136.331452 \nL 162.028575 136.015288 \nL 162.224071 136.411309 \nL 162.419566 135.047286 \nL 162.810557 136.269167 \nL 163.006053 135.87851 \nL 163.201548 136.370504 \nL 163.397044 135.097206 \nL 163.788035 135.941093 \nL 163.98353 136.276774 \nL 164.179026 136.149433 \nL 164.374521 135.717203 \nL 164.765512 136.596168 \nL 164.961008 136.593774 \nL 165.156503 136.450449 \nL 165.351999 135.941428 \nL 165.547494 135.938035 \nL 165.74299 136.41833 \nL 166.133981 135.80081 \nL 166.524972 135.990041 \nL 166.720467 135.222709 \nL 166.915963 136.429526 \nL 167.111458 135.941751 \nL 167.306954 136.005797 \nL 167.697945 136.922727 \nL 168.284431 136.471103 \nL 168.479927 136.750075 \nL 168.870918 136.214744 \nL 169.066413 135.328488 \nL 169.261909 135.12821 \nL 169.6529 136.287803 \nL 169.848395 136.273928 \nL 170.043891 136.427522 \nL 170.239386 136.326067 \nL 170.434882 136.070174 \nL 170.630377 136.021885 \nL 170.825873 136.703931 \nL 171.021368 136.354464 \nL 171.412359 136.507699 \nL 171.607855 135.68996 \nL 171.80335 135.623127 \nL 171.998846 136.423828 \nL 172.389837 135.722684 \nL 172.585332 136.20986 \nL 172.976323 135.604571 \nL 173.171819 135.811454 \nL 173.56281 136.583875 \nL 173.758305 136.037974 \nL 173.953801 134.779459 \nL 174.149296 135.824388 \nL 174.344792 135.896143 \nL 174.540287 136.167632 \nL 174.735783 134.656313 \nL 175.126774 135.83939 \nL 175.322269 134.475261 \nL 175.517765 134.615482 \nL 175.71326 134.937706 \nL 175.908756 136.017336 \nL 176.104251 136.162182 \nL 176.299747 136.036035 \nL 176.495242 136.377317 \nL 176.886233 136.004714 \nL 177.081729 136.472367 \nL 177.277224 135.834299 \nL 177.47272 136.204093 \nL 177.668215 136.225731 \nL 177.863711 136.394198 \nL 178.059206 136.250161 \nL 178.254702 136.414326 \nL 178.450197 136.751273 \nL 178.645693 136.738506 \nL 178.841188 136.243952 \nL 179.036684 136.46272 \nL 179.232179 136.408065 \nL 179.427675 136.722576 \nL 180.014161 135.793518 \nL 180.209657 135.863786 \nL 180.405152 136.054825 \nL 180.600648 136.582345 \nL 180.796143 136.469158 \nL 180.991639 136.623465 \nL 181.38263 136.662184 \nL 181.77362 136.19204 \nL 181.969116 136.475874 \nL 182.164611 136.464804 \nL 182.360107 136.682808 \nL 182.555602 136.515105 \nL 182.751098 136.088644 \nL 182.946593 136.663195 \nL 183.142089 136.210504 \nL 183.53308 136.462667 \nL 183.728575 135.155477 \nL 183.924071 135.437285 \nL 184.119566 135.216404 \nL 184.315062 136.35781 \nL 184.706053 134.835104 \nL 184.901548 135.688672 \nL 185.097044 135.851209 \nL 185.292539 136.50967 \nL 185.488035 136.402605 \nL 185.68353 136.042317 \nL 185.879026 136.084127 \nL 186.074521 136.707542 \nL 186.270017 136.077199 \nL 186.465512 133.857178 \nL 186.661008 134.999865 \nL 187.247494 135.957455 \nL 187.44299 135.621986 \nL 187.833981 136.167416 \nL 188.029476 135.427981 \nL 188.420467 136.244594 \nL 188.615963 136.109159 \nL 188.811458 136.710379 \nL 189.006954 136.632263 \nL 189.202449 136.236298 \nL 189.788936 136.166562 \nL 189.984431 136.415668 \nL 190.375422 136.357163 \nL 190.570918 136.77778 \nL 190.766413 135.130604 \nL 190.961909 135.983846 \nL 191.157404 135.678517 \nL 191.3529 136.395037 \nL 191.548395 136.523489 \nL 191.743891 136.492932 \nL 191.939386 135.961528 \nL 192.134882 135.761553 \nL 192.330377 136.164315 \nL 192.525873 136.14509 \nL 192.721368 134.56155 \nL 192.916864 135.14098 \nL 193.112359 135.165259 \nL 193.307855 135.669143 \nL 193.50335 134.685712 \nL 193.698846 134.706961 \nL 193.894341 134.342489 \nL 194.089837 136.056351 \nL 194.285332 136.551065 \nL 194.480828 134.631109 \nL 194.676323 134.377522 \nL 194.871819 135.712926 \nL 195.067314 136.221027 \nL 195.26281 136.192486 \nL 195.458305 135.792298 \nL 195.653801 136.311695 \nL 195.849296 136.445075 \nL 196.044792 134.789516 \nL 196.240287 134.383608 \nL 196.435783 134.787795 \nL 196.631278 136.641977 \nL 196.826774 136.1979 \nL 197.022269 135.231318 \nL 197.217765 135.583597 \nL 197.41326 134.753568 \nL 197.804251 136.222558 \nL 198.195242 134.574003 \nL 198.390738 136.263426 \nL 198.586233 135.095867 \nL 198.977224 135.718805 \nL 199.17272 135.736963 \nL 199.368215 136.107521 \nL 199.563711 136.151428 \nL 199.759206 135.711637 \nL 199.954702 135.737365 \nL 200.150197 136.401821 \nL 200.345693 133.337253 \nL 200.541188 133.883715 \nL 200.932179 136.285239 \nL 201.127675 136.045278 \nL 201.32317 133.300446 \nL 201.518666 135.202005 \nL 201.714161 135.083583 \nL 201.909657 136.253248 \nL 202.105152 135.787671 \nL 202.300648 135.777114 \nL 202.496143 134.400836 \nL 202.691639 134.114361 \nL 202.887134 135.283882 \nL 203.08263 135.481281 \nL 203.278125 134.331167 \nL 203.47362 134.702175 \nL 203.864611 134.735768 \nL 204.060107 136.391579 \nL 204.255602 135.692303 \nL 204.451098 136.069929 \nL 204.646593 136.088668 \nL 205.037584 134.935168 \nL 205.23308 135.052961 \nL 205.428575 136.170417 \nL 205.624071 135.338232 \nL 205.819566 135.279897 \nL 206.015062 136.299397 \nL 206.210557 135.629555 \nL 206.406053 135.694914 \nL 206.601548 134.91769 \nL 206.797044 136.329259 \nL 207.188035 134.753904 \nL 207.38353 134.929348 \nL 207.579026 135.382666 \nL 207.774521 136.379218 \nL 208.361008 135.301118 \nL 208.751999 136.168487 \nL 208.947494 135.088964 \nL 209.14299 135.359015 \nL 209.338485 134.629719 \nL 209.533981 136.042011 \nL 209.729476 135.698936 \nL 210.120467 134.25945 \nL 210.315963 135.013014 \nL 210.511458 134.137098 \nL 210.706954 134.056026 \nL 211.097945 135.604255 \nL 211.29344 135.473592 \nL 211.488936 136.366292 \nL 211.879927 135.666352 \nL 212.075422 136.726136 \nL 212.270918 135.941387 \nL 212.466413 136.535199 \nL 212.661909 136.546383 \nL 212.857404 136.066369 \nL 213.0529 136.090448 \nL 213.248395 135.220683 \nL 213.639386 136.254576 \nL 213.834882 136.169107 \nL 214.225873 136.244003 \nL 214.616864 136.50339 \nL 215.007855 136.218022 \nL 215.20335 135.993663 \nL 215.398846 134.549007 \nL 215.594341 134.839761 \nL 215.789837 136.441789 \nL 215.985332 135.970723 \nL 216.180828 136.263224 \nL 216.376323 135.507596 \nL 216.571819 135.486654 \nL 216.767314 136.201094 \nL 216.96281 136.248302 \nL 217.158305 135.926916 \nL 217.353801 136.808549 \nL 217.744792 136.624172 \nL 217.940287 136.518832 \nL 218.135783 136.137276 \nL 218.331278 135.267394 \nL 218.526774 136.163603 \nL 218.722269 136.4894 \nL 218.917765 135.909008 \nL 219.11326 133.747059 \nL 219.308756 135.774748 \nL 219.504251 136.121055 \nL 219.699747 135.364064 \nL 219.895242 136.457088 \nL 220.090738 136.272426 \nL 220.286233 136.528023 \nL 220.481729 135.56014 \nL 220.677224 135.716029 \nL 220.87272 136.158017 \nL 221.068215 135.166357 \nL 221.459206 135.976436 \nL 221.850197 136.542711 \nL 222.045693 136.130736 \nL 222.241188 136.044042 \nL 222.436684 135.131209 \nL 222.632179 134.776453 \nL 223.02317 135.465849 \nL 223.218666 134.647242 \nL 223.414161 135.065471 \nL 223.609657 135.756702 \nL 223.805152 135.962644 \nL 224.196143 135.818196 \nL 224.391639 134.866515 \nL 224.587134 135.674128 \nL 224.78263 135.703613 \nL 224.978125 132.763908 \nL 225.369116 135.868637 \nL 225.760107 135.240099 \nL 225.955602 135.869243 \nL 226.151098 135.610618 \nL 226.346593 135.11561 \nL 226.542089 136.178983 \nL 226.737584 136.479589 \nL 226.93308 135.798743 \nL 227.128575 135.843825 \nL 227.324071 135.25696 \nL 227.715062 131.47759 \nL 227.910557 135.308068 \nL 228.106053 134.462848 \nL 228.301548 135.736824 \nL 228.497044 135.854458 \nL 228.692539 134.78777 \nL 228.888035 134.473594 \nL 229.279026 135.826355 \nL 229.670017 134.425353 \nL 229.865512 134.502882 \nL 230.061008 135.242435 \nL 230.256503 134.617625 \nL 230.451999 133.06138 \nL 230.647494 134.735721 \nL 230.84299 135.027148 \nL 231.038485 134.689374 \nL 231.233981 135.769239 \nL 231.820467 136.063975 \nL 232.015963 134.974377 \nL 232.211458 132.389162 \nL 232.406954 135.262863 \nL 232.602449 135.794388 \nL 232.99344 135.719289 \nL 233.188936 136.101042 \nL 233.384431 135.789116 \nL 233.579927 136.055775 \nL 233.775422 135.615417 \nL 233.970918 136.337582 \nL 234.166413 135.836747 \nL 234.361909 134.579001 \nL 234.557404 135.948593 \nL 234.7529 136.110505 \nL 234.948395 135.425088 \nL 235.143891 136.136663 \nL 235.339386 134.729524 \nL 235.925873 136.197004 \nL 236.121368 135.850989 \nL 236.316864 134.850946 \nL 236.512359 135.083017 \nL 236.90335 136.311678 \nL 237.294341 136.220845 \nL 237.489837 134.76108 \nL 237.685332 135.585477 \nL 237.880828 135.622777 \nL 238.076323 136.06164 \nL 238.467314 134.828295 \nL 238.66281 136.047625 \nL 238.858305 135.614541 \nL 239.053801 134.428888 \nL 239.249296 135.037133 \nL 239.444792 134.85929 \nL 239.835783 135.712846 \nL 240.226774 134.144331 \nL 240.422269 135.541077 \nL 240.617765 133.450736 \nL 240.81326 135.858455 \nL 241.008756 136.093168 \nL 241.204251 134.447148 \nL 241.399747 135.480557 \nL 241.595242 135.704208 \nL 241.790738 134.928358 \nL 241.986233 136.224674 \nL 242.181729 135.855514 \nL 242.377224 134.053386 \nL 242.768215 135.483707 \nL 242.963711 134.446142 \nL 243.354702 136.23533 \nL 243.550197 134.836703 \nL 243.745693 136.268771 \nL 243.941188 135.364712 \nL 244.136684 133.814667 \nL 244.332179 135.740915 \nL 244.72317 135.37771 \nL 244.918666 134.954152 \nL 245.114161 132.390183 \nL 245.309657 134.955119 \nL 245.505152 135.402609 \nL 245.700648 134.16072 \nL 245.896143 135.139576 \nL 246.091639 134.557339 \nL 246.287134 134.819104 \nL 246.48263 134.557294 \nL 246.678125 132.507166 \nL 246.678125 132.507166 \n\" style=\"fill:none;stroke:#1f77b4;stroke-linecap:square;stroke-width:1.5;\"/>\n   </g>\n   <g id=\"line2d_35\">\n    <path clip-path=\"url(#pe1a18f3c3e)\" d=\"M 51.378125 13.377273 \nL 51.769116 43.249404 \nL 51.964611 77.536967 \nL 52.355602 61.666376 \nL 52.551098 72.294536 \nL 52.746593 99.114874 \nL 53.137584 72.534975 \nL 53.33308 74.477954 \nL 53.528575 85.681312 \nL 53.724071 105.102669 \nL 54.115062 92.817512 \nL 54.310557 99.040681 \nL 54.506053 108.917529 \nL 54.897044 99.043276 \nL 55.092539 101.984211 \nL 55.288035 108.456154 \nL 55.48353 109.920991 \nL 55.679026 108.456736 \nL 56.070017 111.536557 \nL 56.461008 110.09651 \nL 57.047494 113.454358 \nL 57.438485 114.260342 \nL 57.829476 114.219279 \nL 58.611458 116.427113 \nL 59.197945 116.765642 \nL 59.784431 117.885927 \nL 60.175422 118.112821 \nL 61.1529 119.348628 \nL 61.543891 119.655936 \nL 61.934882 120.616129 \nL 62.325873 121.068448 \nL 62.716864 121.102715 \nL 63.30335 121.575741 \nL 63.694341 121.874804 \nL 64.280828 122.455805 \nL 64.867314 122.769958 \nL 65.649296 123.464461 \nL 66.040287 123.617427 \nL 67.21326 124.540298 \nL 67.799747 124.613283 \nL 68.386233 125.26194 \nL 68.777224 125.431436 \nL 69.363711 125.529041 \nL 69.950197 126.284064 \nL 70.536684 126.361038 \nL 70.927675 126.62727 \nL 71.318666 126.670253 \nL 71.905152 126.644634 \nL 72.296143 126.995221 \nL 72.687134 127.096098 \nL 73.078125 127.553885 \nL 73.664611 127.266566 \nL 73.860107 127.723822 \nL 74.055602 127.779473 \nL 74.642089 127.439648 \nL 75.228575 127.909128 \nL 75.424071 128.057347 \nL 76.010557 127.741204 \nL 76.597044 128.043155 \nL 76.988035 127.782966 \nL 77.18353 128.154353 \nL 77.379026 128.151988 \nL 77.574521 127.962424 \nL 77.965512 128.074289 \nL 78.161008 128.034752 \nL 78.356503 128.151618 \nL 78.747494 127.865655 \nL 78.94299 127.92638 \nL 79.138485 128.291759 \nL 79.529476 127.742321 \nL 79.920467 128.356461 \nL 80.115963 128.363145 \nL 80.311458 128.055213 \nL 80.506954 128.118954 \nL 80.702449 128.422458 \nL 81.288936 128.425175 \nL 81.679927 128.533136 \nL 82.070918 127.912995 \nL 82.266413 128.524149 \nL 82.461909 128.500457 \nL 82.8529 127.981066 \nL 83.048395 128.307795 \nL 83.243891 128.386898 \nL 83.439386 128.116107 \nL 83.830377 128.608493 \nL 84.221368 128.260739 \nL 84.416864 128.651598 \nL 84.807855 128.28788 \nL 85.198846 128.759469 \nL 85.394341 128.271276 \nL 85.589837 128.680955 \nL 85.785332 128.767221 \nL 85.980828 128.380753 \nL 86.371819 129.134882 \nL 86.567314 128.351392 \nL 86.76281 128.393498 \nL 86.958305 128.818082 \nL 87.153801 128.63601 \nL 87.349296 128.8518 \nL 87.544792 128.612185 \nL 87.740287 128.660078 \nL 87.935783 129.009429 \nL 88.131278 129.030819 \nL 88.326774 128.934785 \nL 88.522269 128.977037 \nL 88.717765 128.883507 \nL 89.108756 129.73132 \nL 89.304251 128.969649 \nL 89.499747 129.017833 \nL 89.695242 129.416567 \nL 89.890738 128.446779 \nL 90.086233 128.844206 \nL 90.281729 128.79282 \nL 90.477224 128.349877 \nL 90.67272 129.120336 \nL 90.868215 129.158672 \nL 91.063711 128.994996 \nL 91.259206 129.105561 \nL 91.454702 128.75964 \nL 91.845693 129.572644 \nL 92.041188 129.499506 \nL 92.236684 129.095448 \nL 92.432179 129.210573 \nL 92.627675 128.520582 \nL 93.018666 129.447176 \nL 93.214161 129.034859 \nL 93.605152 128.92993 \nL 93.800648 128.492851 \nL 93.996143 129.036189 \nL 94.191639 128.948642 \nL 94.387134 128.606303 \nL 94.58263 129.427759 \nL 94.778125 129.512227 \nL 94.97362 129.376932 \nL 95.169116 128.513123 \nL 95.364611 129.0818 \nL 95.560107 129.137819 \nL 95.951098 129.559085 \nL 96.146593 128.565073 \nL 96.342089 129.596117 \nL 96.537584 129.207353 \nL 96.73308 129.794899 \nL 96.928575 129.659421 \nL 97.124071 128.467554 \nL 97.319566 129.811915 \nL 97.515062 129.102612 \nL 97.710557 129.125167 \nL 97.906053 129.275808 \nL 98.101548 128.669307 \nL 98.297044 129.567423 \nL 98.492539 129.059803 \nL 98.688035 129.322934 \nL 98.88353 129.841891 \nL 99.079026 129.254316 \nL 99.470017 130.522589 \nL 99.665512 129.050388 \nL 99.861008 129.298855 \nL 100.056503 129.037191 \nL 100.251999 129.550129 \nL 100.447494 129.710675 \nL 100.64299 129.056906 \nL 101.033981 129.806031 \nL 101.229476 129.363582 \nL 101.424972 129.735754 \nL 101.620467 129.535963 \nL 102.011458 130.572634 \nL 102.206954 129.411396 \nL 102.402449 130.3975 \nL 102.597945 129.478851 \nL 102.79344 129.834875 \nL 103.184431 129.562874 \nL 103.379927 130.177847 \nL 103.575422 128.994843 \nL 103.770918 130.071053 \nL 103.966413 130.243141 \nL 104.161909 130.076591 \nL 104.357404 130.283857 \nL 104.5529 129.781792 \nL 104.748395 129.796586 \nL 104.943891 129.184856 \nL 105.139386 130.147316 \nL 105.334882 130.103168 \nL 105.725873 130.551378 \nL 105.921368 130.969563 \nL 106.116864 130.159663 \nL 106.312359 130.355975 \nL 106.70335 128.72627 \nL 106.898846 130.25182 \nL 107.094341 129.875646 \nL 107.485332 130.430769 \nL 107.680828 129.817964 \nL 107.876323 129.994212 \nL 108.071819 129.550323 \nL 108.267314 130.906306 \nL 108.46281 130.889011 \nL 108.658305 129.269967 \nL 109.049296 130.738968 \nL 109.440287 130.199787 \nL 109.831278 130.791618 \nL 110.026774 130.523353 \nL 110.222269 129.928257 \nL 110.417765 130.553265 \nL 111.004251 130.169607 \nL 111.199747 130.521971 \nL 111.395242 130.322803 \nL 111.590738 129.959534 \nL 111.786233 130.949761 \nL 111.981729 130.978912 \nL 112.177224 130.44228 \nL 112.37272 130.635668 \nL 112.568215 131.557389 \nL 112.763711 130.449694 \nL 112.959206 130.127826 \nL 113.154702 130.471002 \nL 113.350197 130.575593 \nL 113.545693 130.300716 \nL 113.741188 130.537178 \nL 113.936684 130.119568 \nL 114.132179 129.991481 \nL 114.327675 130.762768 \nL 114.52317 130.665897 \nL 114.718666 130.033741 \nL 114.914161 130.441178 \nL 115.305152 130.230304 \nL 115.696143 131.230285 \nL 116.087134 130.542805 \nL 116.28263 131.525321 \nL 116.478125 130.177573 \nL 116.67362 130.750028 \nL 116.869116 130.312435 \nL 117.455602 131.087654 \nL 117.651098 131.058274 \nL 117.846593 129.791865 \nL 118.042089 130.870345 \nL 118.237584 130.844558 \nL 118.43308 130.019536 \nL 118.824071 131.600039 \nL 119.019566 131.116175 \nL 119.215062 131.440982 \nL 119.410557 130.655114 \nL 119.606053 131.836438 \nL 119.801548 130.621739 \nL 119.997044 131.634058 \nL 120.192539 130.996941 \nL 120.388035 131.447769 \nL 120.58353 130.957969 \nL 120.779026 131.322513 \nL 120.974521 131.303782 \nL 121.170017 130.644658 \nL 121.365512 130.766156 \nL 121.561008 131.129095 \nL 121.756503 130.640798 \nL 121.951999 131.080373 \nL 122.147494 131.163524 \nL 122.733981 129.763857 \nL 122.929476 131.554882 \nL 123.124972 131.069967 \nL 123.320467 131.249976 \nL 123.515963 130.948144 \nL 123.711458 130.905802 \nL 123.906954 131.010375 \nL 124.102449 131.464769 \nL 124.297945 131.27481 \nL 124.49344 130.560312 \nL 124.688936 131.788335 \nL 124.884431 130.951931 \nL 125.079927 131.395672 \nL 125.275422 130.764305 \nL 125.470918 132.229012 \nL 125.666413 129.812541 \nL 125.861909 131.083969 \nL 126.057404 131.152454 \nL 126.2529 131.78943 \nL 126.448395 130.421691 \nL 126.643891 131.848216 \nL 126.839386 129.608623 \nL 127.034882 130.902886 \nL 127.230377 129.21779 \nL 127.425873 131.870476 \nL 127.621368 129.192257 \nL 127.816864 131.307092 \nL 128.012359 130.26121 \nL 128.207855 130.00411 \nL 128.598846 131.435129 \nL 128.794341 131.340845 \nL 128.989837 131.455059 \nL 129.185332 132.12941 \nL 129.380828 131.483256 \nL 129.576323 131.608301 \nL 129.771819 131.981155 \nL 129.967314 131.607472 \nL 130.16281 132.486572 \nL 130.358305 130.640845 \nL 130.553801 132.366409 \nL 130.749296 130.801005 \nL 130.944792 131.391262 \nL 131.140287 131.347275 \nL 131.335783 130.438225 \nL 131.531278 130.497325 \nL 131.726774 131.590176 \nL 131.922269 130.401674 \nL 132.117765 132.138729 \nL 132.31326 130.542034 \nL 132.508756 131.144559 \nL 132.704251 130.53125 \nL 132.899747 131.272045 \nL 133.095242 131.325574 \nL 133.290738 131.084313 \nL 133.681729 132.149706 \nL 133.877224 131.91934 \nL 134.07272 131.479196 \nL 134.268215 131.613161 \nL 134.463711 131.397768 \nL 134.659206 131.892494 \nL 134.854702 131.076435 \nL 135.050197 132.169313 \nL 135.245693 128.705237 \nL 135.441188 132.064875 \nL 135.636684 129.706016 \nL 135.832179 131.494987 \nL 136.027675 130.928396 \nL 136.22317 131.719828 \nL 136.418666 131.276966 \nL 136.614161 131.59244 \nL 136.809657 130.585316 \nL 137.005152 132.397741 \nL 137.200648 130.712576 \nL 137.396143 132.034581 \nL 137.591639 131.079617 \nL 137.787134 132.751741 \nL 137.98263 131.043824 \nL 138.37362 131.694871 \nL 138.569116 132.671606 \nL 138.764611 130.052626 \nL 138.960107 131.979805 \nL 139.155602 130.607715 \nL 139.351098 131.428322 \nL 139.546593 131.1749 \nL 139.742089 132.362068 \nL 140.13308 130.608946 \nL 140.328575 132.361647 \nL 140.524071 129.987301 \nL 140.719566 132.492659 \nL 140.915062 129.820084 \nL 141.110557 131.628822 \nL 141.306053 131.276628 \nL 141.501548 131.300201 \nL 141.697044 131.529531 \nL 141.892539 131.292067 \nL 142.088035 131.604921 \nL 142.28353 130.73875 \nL 142.479026 132.090437 \nL 142.870017 131.118811 \nL 143.065512 131.985276 \nL 143.261008 131.310162 \nL 143.456503 132.057311 \nL 143.651999 131.942703 \nL 143.847494 131.300253 \nL 144.238485 133.300441 \nL 144.433981 131.458065 \nL 144.629476 132.311666 \nL 145.020467 130.350014 \nL 145.215963 132.005652 \nL 145.411458 131.41043 \nL 145.606954 131.626673 \nL 145.802449 131.484998 \nL 145.997945 131.888351 \nL 146.19344 131.203542 \nL 146.584431 131.968177 \nL 146.779927 131.43765 \nL 146.975422 132.706436 \nL 147.170918 132.89942 \nL 147.366413 131.892965 \nL 147.561909 132.374785 \nL 147.757404 131.068957 \nL 147.9529 131.214003 \nL 148.148395 131.867897 \nL 148.343891 131.463577 \nL 148.539386 132.374181 \nL 148.734882 131.684651 \nL 148.930377 132.37283 \nL 149.125873 131.363762 \nL 149.321368 132.648988 \nL 149.516864 131.101907 \nL 149.907855 132.902296 \nL 150.10335 130.238012 \nL 150.298846 132.238935 \nL 150.494341 130.320041 \nL 150.689837 132.948174 \nL 150.885332 131.52562 \nL 151.080828 132.354589 \nL 151.276323 131.253088 \nL 151.471819 131.606487 \nL 151.667314 131.236624 \nL 151.86281 131.697837 \nL 152.058305 131.217284 \nL 152.253801 132.290114 \nL 152.449296 132.726596 \nL 152.644792 129.998993 \nL 152.840287 132.635336 \nL 153.035783 130.850087 \nL 153.231278 132.26012 \nL 153.426774 132.35328 \nL 153.622269 131.374977 \nL 153.817765 132.550959 \nL 154.01326 131.656653 \nL 154.208756 132.387537 \nL 154.404251 131.334334 \nL 154.599747 132.938209 \nL 154.795242 129.202234 \nL 154.990738 132.794947 \nL 155.186233 130.942872 \nL 155.381729 132.571117 \nL 155.577224 131.860589 \nL 155.77272 132.32353 \nL 155.968215 132.023052 \nL 156.163711 132.146219 \nL 156.359206 132.560563 \nL 156.750197 131.447658 \nL 156.945693 131.74665 \nL 157.141188 132.371646 \nL 157.336684 130.996186 \nL 157.532179 132.812414 \nL 157.727675 132.445259 \nL 157.92317 132.759707 \nL 158.118666 132.647133 \nL 158.314161 131.913149 \nL 158.509657 133.04399 \nL 158.705152 132.154042 \nL 158.900648 133.168884 \nL 159.096143 130.199822 \nL 159.291639 132.810616 \nL 159.487134 130.157758 \nL 159.68263 132.01482 \nL 159.878125 132.755326 \nL 160.07362 132.72054 \nL 160.269116 132.895846 \nL 160.464611 131.679763 \nL 160.660107 132.637055 \nL 160.855602 132.043762 \nL 161.051098 132.358835 \nL 161.246593 131.507359 \nL 161.442089 131.443505 \nL 161.83308 132.533007 \nL 162.028575 131.835142 \nL 162.224071 132.23175 \nL 162.419566 130.58738 \nL 162.615062 131.603608 \nL 162.810557 131.661443 \nL 163.006053 132.059037 \nL 163.201548 131.584709 \nL 163.397044 130.131166 \nL 163.592539 131.700512 \nL 163.788035 131.565431 \nL 163.98353 133.17067 \nL 164.374521 130.676652 \nL 164.570017 132.3894 \nL 164.765512 132.246405 \nL 164.961008 132.249816 \nL 165.156503 133.045228 \nL 165.351999 131.631757 \nL 165.547494 133.378597 \nL 165.74299 132.308623 \nL 165.938485 132.373633 \nL 166.133981 131.547541 \nL 166.329476 131.264652 \nL 166.524972 132.528436 \nL 166.720467 130.920417 \nL 166.915963 132.830964 \nL 167.111458 132.767482 \nL 167.306954 131.662916 \nL 167.502449 132.741235 \nL 167.697945 132.630942 \nL 167.89344 132.828168 \nL 168.088936 132.264891 \nL 168.479927 132.94036 \nL 168.675422 132.168832 \nL 168.870918 132.659559 \nL 169.261909 130.779938 \nL 169.457404 133.484862 \nL 169.6529 132.319977 \nL 169.848395 132.1861 \nL 170.043891 132.306439 \nL 170.239386 132.240192 \nL 170.434882 132.760648 \nL 170.630377 131.401776 \nL 170.825873 132.515665 \nL 171.021368 131.598366 \nL 171.216864 132.469474 \nL 171.412359 132.069184 \nL 171.607855 131.158339 \nL 171.80335 133.520865 \nL 172.194341 131.294392 \nL 172.389837 131.513288 \nL 172.585332 131.927238 \nL 172.780828 131.769154 \nL 172.976323 131.819596 \nL 173.171819 132.760321 \nL 173.367314 132.34511 \nL 173.56281 132.725862 \nL 173.758305 132.748811 \nL 173.953801 131.020761 \nL 174.149296 132.607116 \nL 174.344792 131.940995 \nL 174.540287 132.618255 \nL 174.735783 130.44096 \nL 174.931278 132.541025 \nL 175.322269 131.121616 \nL 175.517765 132.566578 \nL 175.71326 130.536442 \nL 175.908756 132.980749 \nL 176.104251 130.937694 \nL 176.299747 132.094647 \nL 176.495242 132.156631 \nL 176.690738 132.671816 \nL 176.886233 131.667949 \nL 177.081729 132.96303 \nL 177.277224 131.840987 \nL 177.47272 133.268289 \nL 177.668215 132.276892 \nL 177.863711 132.688369 \nL 178.254702 132.276871 \nL 178.450197 133.193176 \nL 178.645693 133.083057 \nL 178.841188 132.184052 \nL 179.036684 133.370653 \nL 179.232179 132.457497 \nL 179.427675 132.941527 \nL 179.62317 132.206455 \nL 179.818666 132.369273 \nL 180.014161 131.588773 \nL 180.209657 132.683157 \nL 180.405152 132.415191 \nL 180.600648 132.889579 \nL 180.796143 132.354943 \nL 180.991639 133.327597 \nL 181.187134 133.027295 \nL 181.38263 133.41458 \nL 181.578125 133.260207 \nL 181.77362 131.785955 \nL 181.969116 132.729806 \nL 182.164611 132.126383 \nL 182.555602 133.511122 \nL 182.751098 131.654746 \nL 182.946593 133.213266 \nL 183.142089 131.899075 \nL 183.337584 133.471463 \nL 183.53308 133.22076 \nL 183.728575 130.975672 \nL 183.924071 133.011814 \nL 184.119566 131.002885 \nL 184.315062 133.159727 \nL 184.510557 133.062503 \nL 184.706053 131.062488 \nL 184.901548 133.49077 \nL 185.097044 131.877371 \nL 185.292539 133.081992 \nL 185.488035 133.507094 \nL 185.879026 131.691083 \nL 186.270017 133.148128 \nL 186.465512 129.323275 \nL 186.661008 133.280056 \nL 186.856503 130.646316 \nL 187.051999 130.884613 \nL 187.247494 133.201045 \nL 187.44299 131.041121 \nL 187.833981 133.20195 \nL 188.029476 131.382345 \nL 188.420467 132.979642 \nL 188.615963 131.18522 \nL 188.811458 133.230801 \nL 189.202449 132.082302 \nL 189.59344 133.405195 \nL 189.788936 132.335627 \nL 189.984431 133.700629 \nL 190.179927 132.431477 \nL 190.375422 132.460696 \nL 190.570918 132.643036 \nL 190.766413 130.75768 \nL 190.961909 133.127619 \nL 191.157404 130.727882 \nL 191.3529 132.410902 \nL 191.743891 132.823979 \nL 191.939386 133.39319 \nL 192.134882 131.739263 \nL 192.330377 132.382819 \nL 192.525873 133.609331 \nL 192.721368 130.561981 \nL 192.916864 133.294241 \nL 193.307855 131.544063 \nL 193.50335 132.208427 \nL 193.894341 130.81889 \nL 194.285332 133.492308 \nL 194.480828 130.82565 \nL 194.676323 132.434888 \nL 194.871819 132.225492 \nL 195.067314 132.200104 \nL 195.26281 133.398966 \nL 195.458305 131.996388 \nL 195.653801 133.3752 \nL 195.849296 133.010708 \nL 196.044792 130.169531 \nL 196.240287 132.31295 \nL 196.435783 130.185211 \nL 196.631278 133.093268 \nL 196.826774 132.359042 \nL 197.022269 130.64935 \nL 197.217765 132.590728 \nL 197.41326 130.52469 \nL 197.608756 132.201305 \nL 197.804251 132.532961 \nL 197.999747 131.096757 \nL 198.390738 133.106118 \nL 198.586233 132.151974 \nL 198.781729 133.539416 \nL 199.17272 131.082003 \nL 199.368215 133.052284 \nL 199.563711 132.598787 \nL 199.759206 131.45109 \nL 199.954702 133.158914 \nL 200.345693 130.42516 \nL 200.541188 131.138385 \nL 200.736684 130.66285 \nL 200.932179 132.244263 \nL 201.127675 131.905203 \nL 201.32317 129.38559 \nL 201.518666 132.635462 \nL 201.714161 131.816017 \nL 201.909657 133.602591 \nL 202.105152 131.687225 \nL 202.300648 131.75465 \nL 202.496143 132.167342 \nL 202.691639 130.390177 \nL 203.08263 131.943187 \nL 203.278125 130.195014 \nL 203.47362 131.792567 \nL 203.669116 131.620158 \nL 203.864611 130.550284 \nL 204.060107 133.074877 \nL 204.255602 130.906453 \nL 204.451098 131.672886 \nL 204.646593 133.119837 \nL 204.842089 130.735619 \nL 205.037584 132.328511 \nL 205.23308 130.690265 \nL 205.428575 132.780607 \nL 205.624071 133.214716 \nL 205.819566 131.546775 \nL 206.015062 133.146361 \nL 206.210557 132.622961 \nL 206.406053 131.363954 \nL 206.797044 133.489067 \nL 206.992539 132.955777 \nL 207.188035 131.78293 \nL 207.579026 132.630072 \nL 207.774521 132.686693 \nL 207.970017 133.243274 \nL 208.165512 132.90994 \nL 208.361008 133.219747 \nL 208.556503 132.296133 \nL 208.751999 133.123544 \nL 208.947494 130.873612 \nL 209.14299 132.532125 \nL 209.338485 131.527234 \nL 209.533981 132.802907 \nL 209.729476 133.188132 \nL 209.924972 130.325213 \nL 210.120467 132.282582 \nL 210.315963 132.292589 \nL 210.511458 130.555051 \nL 210.706954 133.292269 \nL 210.902449 131.022318 \nL 211.097945 132.442196 \nL 211.29344 131.18177 \nL 211.488936 133.036514 \nL 211.684431 132.615227 \nL 211.879927 131.683809 \nL 212.075422 133.342291 \nL 212.270918 133.436114 \nL 212.466413 133.33653 \nL 212.857404 132.501738 \nL 213.0529 133.42905 \nL 213.248395 131.484455 \nL 213.443891 132.940902 \nL 214.030377 132.287936 \nL 214.421368 133.20178 \nL 214.616864 133.014744 \nL 215.007855 132.285514 \nL 215.20335 132.524138 \nL 215.398846 133.015913 \nL 215.594341 131.057418 \nL 215.789837 133.02284 \nL 215.985332 132.013266 \nL 216.180828 132.423508 \nL 216.376323 131.822256 \nL 216.571819 132.797677 \nL 216.767314 133.195205 \nL 216.96281 132.721261 \nL 217.158305 133.282241 \nL 217.353801 133.352098 \nL 217.549296 133.766055 \nL 217.744792 133.559673 \nL 218.135783 131.957888 \nL 218.331278 133.049006 \nL 218.526774 132.091639 \nL 218.722269 133.441046 \nL 218.917765 133.050598 \nL 219.11326 128.933299 \nL 219.308756 132.18731 \nL 219.504251 132.521169 \nL 219.699747 131.471778 \nL 219.895242 133.303352 \nL 220.090738 133.15863 \nL 220.286233 133.409143 \nL 220.481729 132.881095 \nL 220.87272 133.455531 \nL 221.068215 131.546262 \nL 221.263711 132.819649 \nL 221.459206 132.591244 \nL 221.654702 133.456626 \nL 221.850197 133.670311 \nL 222.045693 132.012374 \nL 222.241188 133.312192 \nL 222.436684 132.252934 \nL 222.632179 133.794289 \nL 222.827675 131.656042 \nL 223.02317 131.283523 \nL 223.218666 132.819425 \nL 223.414161 131.386102 \nL 223.609657 132.769356 \nL 223.805152 132.955632 \nL 224.196143 132.716828 \nL 224.391639 131.313768 \nL 224.587134 132.936389 \nL 224.78263 132.652795 \nL 224.978125 128.187094 \nL 225.17362 132.990846 \nL 225.564611 131.554802 \nL 225.955602 133.005443 \nL 226.346593 131.233042 \nL 226.542089 133.581512 \nL 226.737584 133.632546 \nL 226.93308 132.516905 \nL 227.128575 133.996639 \nL 227.519566 128.924819 \nL 227.715062 130.037268 \nL 227.910557 131.835477 \nL 228.106053 131.768385 \nL 228.301548 132.745572 \nL 228.497044 132.984692 \nL 228.692539 130.933609 \nL 228.888035 133.390914 \nL 229.08353 130.742209 \nL 229.474521 131.453745 \nL 229.670017 128.973806 \nL 229.865512 130.83645 \nL 230.061008 131.20851 \nL 230.256503 133.078339 \nL 230.451999 129.398645 \nL 230.647494 130.292668 \nL 230.84299 132.719622 \nL 231.038485 130.71188 \nL 231.233981 131.469245 \nL 231.429476 133.220719 \nL 231.624972 131.988049 \nL 232.015963 133.012219 \nL 232.211458 128.443432 \nL 232.406954 133.103906 \nL 232.602449 132.217835 \nL 232.797945 133.278548 \nL 232.99344 132.697944 \nL 233.188936 133.876332 \nL 233.384431 132.102427 \nL 233.579927 132.39438 \nL 233.775422 131.112078 \nL 234.166413 133.019695 \nL 234.361909 130.940096 \nL 234.557404 133.814253 \nL 234.7529 133.33225 \nL 234.948395 131.587036 \nL 235.143891 133.904926 \nL 235.339386 131.906988 \nL 235.534882 133.237239 \nL 235.730377 130.950447 \nL 235.925873 131.322845 \nL 236.121368 132.77329 \nL 236.316864 131.356505 \nL 236.512359 132.547199 \nL 236.707855 131.155361 \nL 236.90335 132.808666 \nL 237.098846 132.996906 \nL 237.294341 133.966556 \nL 237.489837 131.377934 \nL 237.685332 132.36452 \nL 237.880828 131.093105 \nL 238.076323 132.226013 \nL 238.271819 134.160656 \nL 238.467314 131.494631 \nL 238.66281 132.589538 \nL 238.858305 132.333859 \nL 239.053801 130.231978 \nL 239.249296 130.959961 \nL 239.444792 130.91714 \nL 239.640287 133.487119 \nL 239.835783 132.657887 \nL 240.031278 130.716807 \nL 240.226774 132.09907 \nL 240.422269 132.466559 \nL 240.617765 130.525523 \nL 240.81326 133.706319 \nL 241.008756 132.349805 \nL 241.204251 129.981956 \nL 241.399747 133.606138 \nL 241.595242 132.831989 \nL 241.790738 130.295476 \nL 241.986233 132.901541 \nL 242.181729 133.187496 \nL 242.377224 129.834401 \nL 242.57272 131.904898 \nL 242.768215 132.167038 \nL 242.963711 130.423601 \nL 243.159206 132.890735 \nL 243.354702 133.758423 \nL 243.550197 131.156581 \nL 243.745693 133.808872 \nL 243.941188 132.893429 \nL 244.136684 131.210851 \nL 244.527675 133.566668 \nL 244.918666 130.69839 \nL 245.114161 131.589611 \nL 245.309657 130.331148 \nL 245.505152 131.086585 \nL 245.700648 132.424857 \nL 245.896143 131.220518 \nL 246.091639 131.405793 \nL 246.287134 132.561803 \nL 246.48263 131.960293 \nL 246.678125 128.434386 \nL 246.678125 128.434386 \n\" style=\"fill:none;stroke:#bf00bf;stroke-dasharray:5.55,2.4;stroke-dashoffset:0;stroke-width:1.5;\"/>\n   </g>\n   <g id=\"patch_3\">\n    <path d=\"M 51.378125 143.1 \nL 51.378125 7.2 \n\" style=\"fill:none;stroke:#000000;stroke-linecap:square;stroke-linejoin:miter;stroke-width:0.8;\"/>\n   </g>\n   <g id=\"patch_4\">\n    <path d=\"M 246.678125 143.1 \nL 246.678125 7.2 \n\" style=\"fill:none;stroke:#000000;stroke-linecap:square;stroke-linejoin:miter;stroke-width:0.8;\"/>\n   </g>\n   <g id=\"patch_5\">\n    <path d=\"M 51.378125 143.1 \nL 246.678125 143.1 \n\" style=\"fill:none;stroke:#000000;stroke-linecap:square;stroke-linejoin:miter;stroke-width:0.8;\"/>\n   </g>\n   <g id=\"patch_6\">\n    <path d=\"M 51.378125 7.2 \nL 246.678125 7.2 \n\" style=\"fill:none;stroke:#000000;stroke-linecap:square;stroke-linejoin:miter;stroke-width:0.8;\"/>\n   </g>\n   <g id=\"legend_1\">\n    <g id=\"patch_7\">\n     <path d=\"M 183.726562 44.55625 \nL 239.678125 44.55625 \nQ 241.678125 44.55625 241.678125 42.55625 \nL 241.678125 14.2 \nQ 241.678125 12.2 239.678125 12.2 \nL 183.726562 12.2 \nQ 181.726562 12.2 181.726562 14.2 \nL 181.726562 42.55625 \nQ 181.726562 44.55625 183.726562 44.55625 \nz\n\" style=\"fill:#ffffff;opacity:0.8;stroke:#cccccc;stroke-linejoin:miter;\"/>\n    </g>\n    <g id=\"line2d_36\">\n     <path d=\"M 185.726562 20.298437 \nL 205.726562 20.298437 \n\" style=\"fill:none;stroke:#1f77b4;stroke-linecap:square;stroke-width:1.5;\"/>\n    </g>\n    <g id=\"line2d_37\"/>\n    <g id=\"text_11\">\n     <!-- train -->\n     <defs>\n      <path d=\"M 18.3125 70.21875 \nL 18.3125 54.6875 \nL 36.8125 54.6875 \nL 36.8125 47.703125 \nL 18.3125 47.703125 \nL 18.3125 18.015625 \nQ 18.3125 11.328125 20.140625 9.421875 \nQ 21.96875 7.515625 27.59375 7.515625 \nL 36.8125 7.515625 \nL 36.8125 0 \nL 27.59375 0 \nQ 17.1875 0 13.234375 3.875 \nQ 9.28125 7.765625 9.28125 18.015625 \nL 9.28125 47.703125 \nL 2.6875 47.703125 \nL 2.6875 54.6875 \nL 9.28125 54.6875 \nL 9.28125 70.21875 \nz\n\" id=\"DejaVuSans-116\"/>\n      <path d=\"M 34.28125 27.484375 \nQ 23.390625 27.484375 19.1875 25 \nQ 14.984375 22.515625 14.984375 16.5 \nQ 14.984375 11.71875 18.140625 8.90625 \nQ 21.296875 6.109375 26.703125 6.109375 \nQ 34.1875 6.109375 38.703125 11.40625 \nQ 43.21875 16.703125 43.21875 25.484375 \nL 43.21875 27.484375 \nz\nM 52.203125 31.203125 \nL 52.203125 0 \nL 43.21875 0 \nL 43.21875 8.296875 \nQ 40.140625 3.328125 35.546875 0.953125 \nQ 30.953125 -1.421875 24.3125 -1.421875 \nQ 15.921875 -1.421875 10.953125 3.296875 \nQ 6 8.015625 6 15.921875 \nQ 6 25.140625 12.171875 29.828125 \nQ 18.359375 34.515625 30.609375 34.515625 \nL 43.21875 34.515625 \nL 43.21875 35.40625 \nQ 43.21875 41.609375 39.140625 45 \nQ 35.0625 48.390625 27.6875 48.390625 \nQ 23 48.390625 18.546875 47.265625 \nQ 14.109375 46.140625 10.015625 43.890625 \nL 10.015625 52.203125 \nQ 14.9375 54.109375 19.578125 55.046875 \nQ 24.21875 56 28.609375 56 \nQ 40.484375 56 46.34375 49.84375 \nQ 52.203125 43.703125 52.203125 31.203125 \nz\n\" id=\"DejaVuSans-97\"/>\n      <path d=\"M 9.421875 54.6875 \nL 18.40625 54.6875 \nL 18.40625 0 \nL 9.421875 0 \nz\nM 9.421875 75.984375 \nL 18.40625 75.984375 \nL 18.40625 64.59375 \nL 9.421875 64.59375 \nz\n\" id=\"DejaVuSans-105\"/>\n      <path d=\"M 54.890625 33.015625 \nL 54.890625 0 \nL 45.90625 0 \nL 45.90625 32.71875 \nQ 45.90625 40.484375 42.875 44.328125 \nQ 39.84375 48.1875 33.796875 48.1875 \nQ 26.515625 48.1875 22.3125 43.546875 \nQ 18.109375 38.921875 18.109375 30.90625 \nL 18.109375 0 \nL 9.078125 0 \nL 9.078125 54.6875 \nL 18.109375 54.6875 \nL 18.109375 46.1875 \nQ 21.34375 51.125 25.703125 53.5625 \nQ 30.078125 56 35.796875 56 \nQ 45.21875 56 50.046875 50.171875 \nQ 54.890625 44.34375 54.890625 33.015625 \nz\n\" id=\"DejaVuSans-110\"/>\n     </defs>\n     <g transform=\"translate(213.726562 23.798437)scale(0.1 -0.1)\">\n      <use xlink:href=\"#DejaVuSans-116\"/>\n      <use x=\"39.208984\" xlink:href=\"#DejaVuSans-114\"/>\n      <use x=\"80.322266\" xlink:href=\"#DejaVuSans-97\"/>\n      <use x=\"141.601562\" xlink:href=\"#DejaVuSans-105\"/>\n      <use x=\"169.384766\" xlink:href=\"#DejaVuSans-110\"/>\n     </g>\n    </g>\n    <g id=\"line2d_38\">\n     <path d=\"M 185.726562 34.976562 \nL 205.726562 34.976562 \n\" style=\"fill:none;stroke:#bf00bf;stroke-dasharray:5.55,2.4;stroke-dashoffset:0;stroke-width:1.5;\"/>\n    </g>\n    <g id=\"line2d_39\"/>\n    <g id=\"text_12\">\n     <!-- valid -->\n     <defs>\n      <path d=\"M 2.984375 54.6875 \nL 12.5 54.6875 \nL 29.59375 8.796875 \nL 46.6875 54.6875 \nL 56.203125 54.6875 \nL 35.6875 0 \nL 23.484375 0 \nz\n\" id=\"DejaVuSans-118\"/>\n      <path d=\"M 9.421875 75.984375 \nL 18.40625 75.984375 \nL 18.40625 0 \nL 9.421875 0 \nz\n\" id=\"DejaVuSans-108\"/>\n      <path d=\"M 45.40625 46.390625 \nL 45.40625 75.984375 \nL 54.390625 75.984375 \nL 54.390625 0 \nL 45.40625 0 \nL 45.40625 8.203125 \nQ 42.578125 3.328125 38.25 0.953125 \nQ 33.9375 -1.421875 27.875 -1.421875 \nQ 17.96875 -1.421875 11.734375 6.484375 \nQ 5.515625 14.40625 5.515625 27.296875 \nQ 5.515625 40.1875 11.734375 48.09375 \nQ 17.96875 56 27.875 56 \nQ 33.9375 56 38.25 53.625 \nQ 42.578125 51.265625 45.40625 46.390625 \nz\nM 14.796875 27.296875 \nQ 14.796875 17.390625 18.875 11.75 \nQ 22.953125 6.109375 30.078125 6.109375 \nQ 37.203125 6.109375 41.296875 11.75 \nQ 45.40625 17.390625 45.40625 27.296875 \nQ 45.40625 37.203125 41.296875 42.84375 \nQ 37.203125 48.484375 30.078125 48.484375 \nQ 22.953125 48.484375 18.875 42.84375 \nQ 14.796875 37.203125 14.796875 27.296875 \nz\n\" id=\"DejaVuSans-100\"/>\n     </defs>\n     <g transform=\"translate(213.726562 38.476562)scale(0.1 -0.1)\">\n      <use xlink:href=\"#DejaVuSans-118\"/>\n      <use x=\"59.179688\" xlink:href=\"#DejaVuSans-97\"/>\n      <use x=\"120.458984\" xlink:href=\"#DejaVuSans-108\"/>\n      <use x=\"148.242188\" xlink:href=\"#DejaVuSans-105\"/>\n      <use x=\"176.025391\" xlink:href=\"#DejaVuSans-100\"/>\n     </g>\n    </g>\n   </g>\n  </g>\n </g>\n <defs>\n  <clipPath id=\"pe1a18f3c3e\">\n   <rect height=\"135.9\" width=\"195.3\" x=\"51.378125\" y=\"7.2\"/>\n  </clipPath>\n </defs>\n</svg>\n"
          },
          "metadata": {
            "tags": [],
            "needs_background": "light"
          }
        }
      ]
    },
    {
      "cell_type": "code",
      "metadata": {
        "id": "80nEcUgtkJNU"
      },
      "source": [
        "def train_and_pred(train_features, test_feature, train_labels, test_data,\n",
        "                   num_epochs, lr, weight_decay, batch_size, log_values=False):\n",
        "    net = get_net()\n",
        "    net.apply(init_weights);\n",
        "    if log_values:\n",
        "      train_labels = np.log(train_labels)\n",
        "    train_ls, _ = train(net, train_features, train_labels, None, None,\n",
        "                        num_epochs, lr, weight_decay, batch_size)\n",
        "    d2l.plot(np.arange(1, num_epochs + 1), [train_ls], xlabel='epoch',\n",
        "             ylabel='log rmse', xlim=[1, num_epochs], yscale='log')\n",
        "    print(f'train log rmse {float(train_ls[-1]):f}')\n",
        "    # Apply the network to the test set\n",
        "    preds = net(test_features).detach().numpy()\n",
        "    # Reformat it to export to Kaggle\n",
        "    test_data['SalePrice'] = pd.Series(preds.reshape(1, -1)[0])\n",
        "    submission = pd.concat([test_data['Id'], test_data['SalePrice']], axis=1)\n",
        "    if log_values:\n",
        "      submission['SalePrice'] = (np.exp(submission['SalePrice'])).astype(float)\n",
        "    submission.to_csv('submission.csv', index=False)"
      ],
      "execution_count": 19,
      "outputs": []
    },
    {
      "cell_type": "code",
      "metadata": {
        "colab": {
          "base_uri": "https://localhost:8080/",
          "height": 280
        },
        "id": "2VWuYco9kM7h",
        "outputId": "bb349951-b684-42ea-e71d-f2f6551c6354"
      },
      "source": [
        "k, num_epochs, lr, weight_decay, batch_size = 5, 10, .001, 0.075, 512\n",
        "train_and_pred(train_features, test_features, train_labels, test_data,\n",
        "               num_epochs, lr, weight_decay, batch_size, log_values=False)"
      ],
      "execution_count": 22,
      "outputs": [
        {
          "output_type": "stream",
          "text": [
            "train log rmse 8.122157\n"
          ],
          "name": "stdout"
        },
        {
          "output_type": "display_data",
          "data": {
            "text/plain": [
              "<Figure size 252x180 with 1 Axes>"
            ],
            "image/svg+xml": "<?xml version=\"1.0\" encoding=\"utf-8\" standalone=\"no\"?>\n<!DOCTYPE svg PUBLIC \"-//W3C//DTD SVG 1.1//EN\"\n  \"http://www.w3.org/Graphics/SVG/1.1/DTD/svg11.dtd\">\n<!-- Created with matplotlib (https://matplotlib.org/) -->\n<svg height=\"180.65625pt\" version=\"1.1\" viewBox=\"0 0 271.340625 180.65625\" width=\"271.340625pt\" xmlns=\"http://www.w3.org/2000/svg\" xmlns:xlink=\"http://www.w3.org/1999/xlink\">\n <defs>\n  <style type=\"text/css\">\n*{stroke-linecap:butt;stroke-linejoin:round;}\n  </style>\n </defs>\n <g id=\"figure_1\">\n  <g id=\"patch_1\">\n   <path d=\"M 0 180.65625 \nL 271.340625 180.65625 \nL 271.340625 0 \nL 0 0 \nz\n\" style=\"fill:none;\"/>\n  </g>\n  <g id=\"axes_1\">\n   <g id=\"patch_2\">\n    <path d=\"M 62.478125 143.1 \nL 257.778125 143.1 \nL 257.778125 7.2 \nL 62.478125 7.2 \nz\n\" style=\"fill:#ffffff;\"/>\n   </g>\n   <g id=\"matplotlib.axis_1\">\n    <g id=\"xtick_1\">\n     <g id=\"line2d_1\">\n      <path clip-path=\"url(#p678054867d)\" d=\"M 84.178125 143.1 \nL 84.178125 7.2 \n\" style=\"fill:none;stroke:#b0b0b0;stroke-linecap:square;stroke-width:0.8;\"/>\n     </g>\n     <g id=\"line2d_2\">\n      <defs>\n       <path d=\"M 0 0 \nL 0 3.5 \n\" id=\"ma4d8a31c2f\" style=\"stroke:#000000;stroke-width:0.8;\"/>\n      </defs>\n      <g>\n       <use style=\"stroke:#000000;stroke-width:0.8;\" x=\"84.178125\" xlink:href=\"#ma4d8a31c2f\" y=\"143.1\"/>\n      </g>\n     </g>\n     <g id=\"text_1\">\n      <!-- 2 -->\n      <defs>\n       <path d=\"M 19.1875 8.296875 \nL 53.609375 8.296875 \nL 53.609375 0 \nL 7.328125 0 \nL 7.328125 8.296875 \nQ 12.9375 14.109375 22.625 23.890625 \nQ 32.328125 33.6875 34.8125 36.53125 \nQ 39.546875 41.84375 41.421875 45.53125 \nQ 43.3125 49.21875 43.3125 52.78125 \nQ 43.3125 58.59375 39.234375 62.25 \nQ 35.15625 65.921875 28.609375 65.921875 \nQ 23.96875 65.921875 18.8125 64.3125 \nQ 13.671875 62.703125 7.8125 59.421875 \nL 7.8125 69.390625 \nQ 13.765625 71.78125 18.9375 73 \nQ 24.125 74.21875 28.421875 74.21875 \nQ 39.75 74.21875 46.484375 68.546875 \nQ 53.21875 62.890625 53.21875 53.421875 \nQ 53.21875 48.921875 51.53125 44.890625 \nQ 49.859375 40.875 45.40625 35.40625 \nQ 44.1875 33.984375 37.640625 27.21875 \nQ 31.109375 20.453125 19.1875 8.296875 \nz\n\" id=\"DejaVuSans-50\"/>\n      </defs>\n      <g transform=\"translate(80.996875 157.698438)scale(0.1 -0.1)\">\n       <use xlink:href=\"#DejaVuSans-50\"/>\n      </g>\n     </g>\n    </g>\n    <g id=\"xtick_2\">\n     <g id=\"line2d_3\">\n      <path clip-path=\"url(#p678054867d)\" d=\"M 127.578125 143.1 \nL 127.578125 7.2 \n\" style=\"fill:none;stroke:#b0b0b0;stroke-linecap:square;stroke-width:0.8;\"/>\n     </g>\n     <g id=\"line2d_4\">\n      <g>\n       <use style=\"stroke:#000000;stroke-width:0.8;\" x=\"127.578125\" xlink:href=\"#ma4d8a31c2f\" y=\"143.1\"/>\n      </g>\n     </g>\n     <g id=\"text_2\">\n      <!-- 4 -->\n      <defs>\n       <path d=\"M 37.796875 64.3125 \nL 12.890625 25.390625 \nL 37.796875 25.390625 \nz\nM 35.203125 72.90625 \nL 47.609375 72.90625 \nL 47.609375 25.390625 \nL 58.015625 25.390625 \nL 58.015625 17.1875 \nL 47.609375 17.1875 \nL 47.609375 0 \nL 37.796875 0 \nL 37.796875 17.1875 \nL 4.890625 17.1875 \nL 4.890625 26.703125 \nz\n\" id=\"DejaVuSans-52\"/>\n      </defs>\n      <g transform=\"translate(124.396875 157.698438)scale(0.1 -0.1)\">\n       <use xlink:href=\"#DejaVuSans-52\"/>\n      </g>\n     </g>\n    </g>\n    <g id=\"xtick_3\">\n     <g id=\"line2d_5\">\n      <path clip-path=\"url(#p678054867d)\" d=\"M 170.978125 143.1 \nL 170.978125 7.2 \n\" style=\"fill:none;stroke:#b0b0b0;stroke-linecap:square;stroke-width:0.8;\"/>\n     </g>\n     <g id=\"line2d_6\">\n      <g>\n       <use style=\"stroke:#000000;stroke-width:0.8;\" x=\"170.978125\" xlink:href=\"#ma4d8a31c2f\" y=\"143.1\"/>\n      </g>\n     </g>\n     <g id=\"text_3\">\n      <!-- 6 -->\n      <defs>\n       <path d=\"M 33.015625 40.375 \nQ 26.375 40.375 22.484375 35.828125 \nQ 18.609375 31.296875 18.609375 23.390625 \nQ 18.609375 15.53125 22.484375 10.953125 \nQ 26.375 6.390625 33.015625 6.390625 \nQ 39.65625 6.390625 43.53125 10.953125 \nQ 47.40625 15.53125 47.40625 23.390625 \nQ 47.40625 31.296875 43.53125 35.828125 \nQ 39.65625 40.375 33.015625 40.375 \nz\nM 52.59375 71.296875 \nL 52.59375 62.3125 \nQ 48.875 64.0625 45.09375 64.984375 \nQ 41.3125 65.921875 37.59375 65.921875 \nQ 27.828125 65.921875 22.671875 59.328125 \nQ 17.53125 52.734375 16.796875 39.40625 \nQ 19.671875 43.65625 24.015625 45.921875 \nQ 28.375 48.1875 33.59375 48.1875 \nQ 44.578125 48.1875 50.953125 41.515625 \nQ 57.328125 34.859375 57.328125 23.390625 \nQ 57.328125 12.15625 50.6875 5.359375 \nQ 44.046875 -1.421875 33.015625 -1.421875 \nQ 20.359375 -1.421875 13.671875 8.265625 \nQ 6.984375 17.96875 6.984375 36.375 \nQ 6.984375 53.65625 15.1875 63.9375 \nQ 23.390625 74.21875 37.203125 74.21875 \nQ 40.921875 74.21875 44.703125 73.484375 \nQ 48.484375 72.75 52.59375 71.296875 \nz\n\" id=\"DejaVuSans-54\"/>\n      </defs>\n      <g transform=\"translate(167.796875 157.698438)scale(0.1 -0.1)\">\n       <use xlink:href=\"#DejaVuSans-54\"/>\n      </g>\n     </g>\n    </g>\n    <g id=\"xtick_4\">\n     <g id=\"line2d_7\">\n      <path clip-path=\"url(#p678054867d)\" d=\"M 214.378125 143.1 \nL 214.378125 7.2 \n\" style=\"fill:none;stroke:#b0b0b0;stroke-linecap:square;stroke-width:0.8;\"/>\n     </g>\n     <g id=\"line2d_8\">\n      <g>\n       <use style=\"stroke:#000000;stroke-width:0.8;\" x=\"214.378125\" xlink:href=\"#ma4d8a31c2f\" y=\"143.1\"/>\n      </g>\n     </g>\n     <g id=\"text_4\">\n      <!-- 8 -->\n      <defs>\n       <path d=\"M 31.78125 34.625 \nQ 24.75 34.625 20.71875 30.859375 \nQ 16.703125 27.09375 16.703125 20.515625 \nQ 16.703125 13.921875 20.71875 10.15625 \nQ 24.75 6.390625 31.78125 6.390625 \nQ 38.8125 6.390625 42.859375 10.171875 \nQ 46.921875 13.96875 46.921875 20.515625 \nQ 46.921875 27.09375 42.890625 30.859375 \nQ 38.875 34.625 31.78125 34.625 \nz\nM 21.921875 38.8125 \nQ 15.578125 40.375 12.03125 44.71875 \nQ 8.5 49.078125 8.5 55.328125 \nQ 8.5 64.0625 14.71875 69.140625 \nQ 20.953125 74.21875 31.78125 74.21875 \nQ 42.671875 74.21875 48.875 69.140625 \nQ 55.078125 64.0625 55.078125 55.328125 \nQ 55.078125 49.078125 51.53125 44.71875 \nQ 48 40.375 41.703125 38.8125 \nQ 48.828125 37.15625 52.796875 32.3125 \nQ 56.78125 27.484375 56.78125 20.515625 \nQ 56.78125 9.90625 50.3125 4.234375 \nQ 43.84375 -1.421875 31.78125 -1.421875 \nQ 19.734375 -1.421875 13.25 4.234375 \nQ 6.78125 9.90625 6.78125 20.515625 \nQ 6.78125 27.484375 10.78125 32.3125 \nQ 14.796875 37.15625 21.921875 38.8125 \nz\nM 18.3125 54.390625 \nQ 18.3125 48.734375 21.84375 45.5625 \nQ 25.390625 42.390625 31.78125 42.390625 \nQ 38.140625 42.390625 41.71875 45.5625 \nQ 45.3125 48.734375 45.3125 54.390625 \nQ 45.3125 60.0625 41.71875 63.234375 \nQ 38.140625 66.40625 31.78125 66.40625 \nQ 25.390625 66.40625 21.84375 63.234375 \nQ 18.3125 60.0625 18.3125 54.390625 \nz\n\" id=\"DejaVuSans-56\"/>\n      </defs>\n      <g transform=\"translate(211.196875 157.698438)scale(0.1 -0.1)\">\n       <use xlink:href=\"#DejaVuSans-56\"/>\n      </g>\n     </g>\n    </g>\n    <g id=\"xtick_5\">\n     <g id=\"line2d_9\">\n      <path clip-path=\"url(#p678054867d)\" d=\"M 257.778125 143.1 \nL 257.778125 7.2 \n\" style=\"fill:none;stroke:#b0b0b0;stroke-linecap:square;stroke-width:0.8;\"/>\n     </g>\n     <g id=\"line2d_10\">\n      <g>\n       <use style=\"stroke:#000000;stroke-width:0.8;\" x=\"257.778125\" xlink:href=\"#ma4d8a31c2f\" y=\"143.1\"/>\n      </g>\n     </g>\n     <g id=\"text_5\">\n      <!-- 10 -->\n      <defs>\n       <path d=\"M 12.40625 8.296875 \nL 28.515625 8.296875 \nL 28.515625 63.921875 \nL 10.984375 60.40625 \nL 10.984375 69.390625 \nL 28.421875 72.90625 \nL 38.28125 72.90625 \nL 38.28125 8.296875 \nL 54.390625 8.296875 \nL 54.390625 0 \nL 12.40625 0 \nz\n\" id=\"DejaVuSans-49\"/>\n       <path d=\"M 31.78125 66.40625 \nQ 24.171875 66.40625 20.328125 58.90625 \nQ 16.5 51.421875 16.5 36.375 \nQ 16.5 21.390625 20.328125 13.890625 \nQ 24.171875 6.390625 31.78125 6.390625 \nQ 39.453125 6.390625 43.28125 13.890625 \nQ 47.125 21.390625 47.125 36.375 \nQ 47.125 51.421875 43.28125 58.90625 \nQ 39.453125 66.40625 31.78125 66.40625 \nz\nM 31.78125 74.21875 \nQ 44.046875 74.21875 50.515625 64.515625 \nQ 56.984375 54.828125 56.984375 36.375 \nQ 56.984375 17.96875 50.515625 8.265625 \nQ 44.046875 -1.421875 31.78125 -1.421875 \nQ 19.53125 -1.421875 13.0625 8.265625 \nQ 6.59375 17.96875 6.59375 36.375 \nQ 6.59375 54.828125 13.0625 64.515625 \nQ 19.53125 74.21875 31.78125 74.21875 \nz\n\" id=\"DejaVuSans-48\"/>\n      </defs>\n      <g transform=\"translate(251.415625 157.698438)scale(0.1 -0.1)\">\n       <use xlink:href=\"#DejaVuSans-49\"/>\n       <use x=\"63.623047\" xlink:href=\"#DejaVuSans-48\"/>\n      </g>\n     </g>\n    </g>\n    <g id=\"text_6\">\n     <!-- epoch -->\n     <defs>\n      <path d=\"M 56.203125 29.59375 \nL 56.203125 25.203125 \nL 14.890625 25.203125 \nQ 15.484375 15.921875 20.484375 11.0625 \nQ 25.484375 6.203125 34.421875 6.203125 \nQ 39.59375 6.203125 44.453125 7.46875 \nQ 49.3125 8.734375 54.109375 11.28125 \nL 54.109375 2.78125 \nQ 49.265625 0.734375 44.1875 -0.34375 \nQ 39.109375 -1.421875 33.890625 -1.421875 \nQ 20.796875 -1.421875 13.15625 6.1875 \nQ 5.515625 13.8125 5.515625 26.8125 \nQ 5.515625 40.234375 12.765625 48.109375 \nQ 20.015625 56 32.328125 56 \nQ 43.359375 56 49.78125 48.890625 \nQ 56.203125 41.796875 56.203125 29.59375 \nz\nM 47.21875 32.234375 \nQ 47.125 39.59375 43.09375 43.984375 \nQ 39.0625 48.390625 32.421875 48.390625 \nQ 24.90625 48.390625 20.390625 44.140625 \nQ 15.875 39.890625 15.1875 32.171875 \nz\n\" id=\"DejaVuSans-101\"/>\n      <path d=\"M 18.109375 8.203125 \nL 18.109375 -20.796875 \nL 9.078125 -20.796875 \nL 9.078125 54.6875 \nL 18.109375 54.6875 \nL 18.109375 46.390625 \nQ 20.953125 51.265625 25.265625 53.625 \nQ 29.59375 56 35.59375 56 \nQ 45.5625 56 51.78125 48.09375 \nQ 58.015625 40.1875 58.015625 27.296875 \nQ 58.015625 14.40625 51.78125 6.484375 \nQ 45.5625 -1.421875 35.59375 -1.421875 \nQ 29.59375 -1.421875 25.265625 0.953125 \nQ 20.953125 3.328125 18.109375 8.203125 \nz\nM 48.6875 27.296875 \nQ 48.6875 37.203125 44.609375 42.84375 \nQ 40.53125 48.484375 33.40625 48.484375 \nQ 26.265625 48.484375 22.1875 42.84375 \nQ 18.109375 37.203125 18.109375 27.296875 \nQ 18.109375 17.390625 22.1875 11.75 \nQ 26.265625 6.109375 33.40625 6.109375 \nQ 40.53125 6.109375 44.609375 11.75 \nQ 48.6875 17.390625 48.6875 27.296875 \nz\n\" id=\"DejaVuSans-112\"/>\n      <path d=\"M 30.609375 48.390625 \nQ 23.390625 48.390625 19.1875 42.75 \nQ 14.984375 37.109375 14.984375 27.296875 \nQ 14.984375 17.484375 19.15625 11.84375 \nQ 23.34375 6.203125 30.609375 6.203125 \nQ 37.796875 6.203125 41.984375 11.859375 \nQ 46.1875 17.53125 46.1875 27.296875 \nQ 46.1875 37.015625 41.984375 42.703125 \nQ 37.796875 48.390625 30.609375 48.390625 \nz\nM 30.609375 56 \nQ 42.328125 56 49.015625 48.375 \nQ 55.71875 40.765625 55.71875 27.296875 \nQ 55.71875 13.875 49.015625 6.21875 \nQ 42.328125 -1.421875 30.609375 -1.421875 \nQ 18.84375 -1.421875 12.171875 6.21875 \nQ 5.515625 13.875 5.515625 27.296875 \nQ 5.515625 40.765625 12.171875 48.375 \nQ 18.84375 56 30.609375 56 \nz\n\" id=\"DejaVuSans-111\"/>\n      <path d=\"M 48.78125 52.59375 \nL 48.78125 44.1875 \nQ 44.96875 46.296875 41.140625 47.34375 \nQ 37.3125 48.390625 33.40625 48.390625 \nQ 24.65625 48.390625 19.8125 42.84375 \nQ 14.984375 37.3125 14.984375 27.296875 \nQ 14.984375 17.28125 19.8125 11.734375 \nQ 24.65625 6.203125 33.40625 6.203125 \nQ 37.3125 6.203125 41.140625 7.25 \nQ 44.96875 8.296875 48.78125 10.40625 \nL 48.78125 2.09375 \nQ 45.015625 0.34375 40.984375 -0.53125 \nQ 36.96875 -1.421875 32.421875 -1.421875 \nQ 20.0625 -1.421875 12.78125 6.34375 \nQ 5.515625 14.109375 5.515625 27.296875 \nQ 5.515625 40.671875 12.859375 48.328125 \nQ 20.21875 56 33.015625 56 \nQ 37.15625 56 41.109375 55.140625 \nQ 45.0625 54.296875 48.78125 52.59375 \nz\n\" id=\"DejaVuSans-99\"/>\n      <path d=\"M 54.890625 33.015625 \nL 54.890625 0 \nL 45.90625 0 \nL 45.90625 32.71875 \nQ 45.90625 40.484375 42.875 44.328125 \nQ 39.84375 48.1875 33.796875 48.1875 \nQ 26.515625 48.1875 22.3125 43.546875 \nQ 18.109375 38.921875 18.109375 30.90625 \nL 18.109375 0 \nL 9.078125 0 \nL 9.078125 75.984375 \nL 18.109375 75.984375 \nL 18.109375 46.1875 \nQ 21.34375 51.125 25.703125 53.5625 \nQ 30.078125 56 35.796875 56 \nQ 45.21875 56 50.046875 50.171875 \nQ 54.890625 44.34375 54.890625 33.015625 \nz\n\" id=\"DejaVuSans-104\"/>\n     </defs>\n     <g transform=\"translate(144.9 171.376563)scale(0.1 -0.1)\">\n      <use xlink:href=\"#DejaVuSans-101\"/>\n      <use x=\"61.523438\" xlink:href=\"#DejaVuSans-112\"/>\n      <use x=\"125\" xlink:href=\"#DejaVuSans-111\"/>\n      <use x=\"186.181641\" xlink:href=\"#DejaVuSans-99\"/>\n      <use x=\"241.162109\" xlink:href=\"#DejaVuSans-104\"/>\n     </g>\n    </g>\n   </g>\n   <g id=\"matplotlib.axis_2\">\n    <g id=\"ytick_1\">\n     <g id=\"line2d_11\">\n      <path clip-path=\"url(#p678054867d)\" d=\"M 62.478125 71.252588 \nL 257.778125 71.252588 \n\" style=\"fill:none;stroke:#b0b0b0;stroke-linecap:square;stroke-width:0.8;\"/>\n     </g>\n     <g id=\"line2d_12\">\n      <defs>\n       <path d=\"M 0 0 \nL -3.5 0 \n\" id=\"m563bce017f\" style=\"stroke:#000000;stroke-width:0.8;\"/>\n      </defs>\n      <g>\n       <use style=\"stroke:#000000;stroke-width:0.8;\" x=\"62.478125\" xlink:href=\"#m563bce017f\" y=\"71.252588\"/>\n      </g>\n     </g>\n     <g id=\"text_7\">\n      <!-- $\\mathdefault{10^{1}}$ -->\n      <g transform=\"translate(37.878125 75.051807)scale(0.1 -0.1)\">\n       <use transform=\"translate(0 0.684375)\" xlink:href=\"#DejaVuSans-49\"/>\n       <use transform=\"translate(63.623047 0.684375)\" xlink:href=\"#DejaVuSans-48\"/>\n       <use transform=\"translate(128.203125 38.965625)scale(0.7)\" xlink:href=\"#DejaVuSans-49\"/>\n      </g>\n     </g>\n    </g>\n    <g id=\"ytick_2\">\n     <g id=\"line2d_13\">\n      <defs>\n       <path d=\"M 0 0 \nL -2 0 \n\" id=\"m1f59536530\" style=\"stroke:#000000;stroke-width:0.6;\"/>\n      </defs>\n      <g>\n       <use style=\"stroke:#000000;stroke-width:0.6;\" x=\"62.478125\" xlink:href=\"#m1f59536530\" y=\"141.707494\"/>\n      </g>\n     </g>\n     <g id=\"text_8\">\n      <!-- $\\mathdefault{8\\times10^{0}}$ -->\n      <defs>\n       <path d=\"M 70.125 53.71875 \nL 47.796875 31.296875 \nL 70.125 8.984375 \nL 64.3125 3.078125 \nL 41.890625 25.484375 \nL 19.484375 3.078125 \nL 13.71875 8.984375 \nL 35.984375 31.296875 \nL 13.71875 53.71875 \nL 19.484375 59.625 \nL 41.890625 37.203125 \nL 64.3125 59.625 \nz\n\" id=\"DejaVuSans-215\"/>\n      </defs>\n      <g transform=\"translate(20.878125 145.506713)scale(0.1 -0.1)\">\n       <use transform=\"translate(0 0.765625)\" xlink:href=\"#DejaVuSans-56\"/>\n       <use transform=\"translate(83.105469 0.765625)\" xlink:href=\"#DejaVuSans-215\"/>\n       <use transform=\"translate(186.376953 0.765625)\" xlink:href=\"#DejaVuSans-49\"/>\n       <use transform=\"translate(250 0.765625)\" xlink:href=\"#DejaVuSans-48\"/>\n       <use transform=\"translate(314.580078 39.046875)scale(0.7)\" xlink:href=\"#DejaVuSans-48\"/>\n      </g>\n     </g>\n    </g>\n    <g id=\"ytick_3\">\n     <g id=\"line2d_14\">\n      <g>\n       <use style=\"stroke:#000000;stroke-width:0.6;\" x=\"62.478125\" xlink:href=\"#m1f59536530\" y=\"104.51891\"/>\n      </g>\n     </g>\n     <g id=\"text_9\">\n      <!-- $\\mathdefault{9\\times10^{0}}$ -->\n      <defs>\n       <path d=\"M 10.984375 1.515625 \nL 10.984375 10.5 \nQ 14.703125 8.734375 18.5 7.8125 \nQ 22.3125 6.890625 25.984375 6.890625 \nQ 35.75 6.890625 40.890625 13.453125 \nQ 46.046875 20.015625 46.78125 33.40625 \nQ 43.953125 29.203125 39.59375 26.953125 \nQ 35.25 24.703125 29.984375 24.703125 \nQ 19.046875 24.703125 12.671875 31.3125 \nQ 6.296875 37.9375 6.296875 49.421875 \nQ 6.296875 60.640625 12.9375 67.421875 \nQ 19.578125 74.21875 30.609375 74.21875 \nQ 43.265625 74.21875 49.921875 64.515625 \nQ 56.59375 54.828125 56.59375 36.375 \nQ 56.59375 19.140625 48.40625 8.859375 \nQ 40.234375 -1.421875 26.421875 -1.421875 \nQ 22.703125 -1.421875 18.890625 -0.6875 \nQ 15.09375 0.046875 10.984375 1.515625 \nz\nM 30.609375 32.421875 \nQ 37.25 32.421875 41.125 36.953125 \nQ 45.015625 41.5 45.015625 49.421875 \nQ 45.015625 57.28125 41.125 61.84375 \nQ 37.25 66.40625 30.609375 66.40625 \nQ 23.96875 66.40625 20.09375 61.84375 \nQ 16.21875 57.28125 16.21875 49.421875 \nQ 16.21875 41.5 20.09375 36.953125 \nQ 23.96875 32.421875 30.609375 32.421875 \nz\n\" id=\"DejaVuSans-57\"/>\n      </defs>\n      <g transform=\"translate(20.878125 108.318129)scale(0.1 -0.1)\">\n       <use transform=\"translate(0 0.765625)\" xlink:href=\"#DejaVuSans-57\"/>\n       <use transform=\"translate(83.105469 0.765625)\" xlink:href=\"#DejaVuSans-215\"/>\n       <use transform=\"translate(186.376953 0.765625)\" xlink:href=\"#DejaVuSans-49\"/>\n       <use transform=\"translate(250 0.765625)\" xlink:href=\"#DejaVuSans-48\"/>\n       <use transform=\"translate(314.580078 39.046875)scale(0.7)\" xlink:href=\"#DejaVuSans-48\"/>\n      </g>\n     </g>\n    </g>\n    <g id=\"text_10\">\n     <!-- log rmse -->\n     <defs>\n      <path d=\"M 9.421875 75.984375 \nL 18.40625 75.984375 \nL 18.40625 0 \nL 9.421875 0 \nz\n\" id=\"DejaVuSans-108\"/>\n      <path d=\"M 45.40625 27.984375 \nQ 45.40625 37.75 41.375 43.109375 \nQ 37.359375 48.484375 30.078125 48.484375 \nQ 22.859375 48.484375 18.828125 43.109375 \nQ 14.796875 37.75 14.796875 27.984375 \nQ 14.796875 18.265625 18.828125 12.890625 \nQ 22.859375 7.515625 30.078125 7.515625 \nQ 37.359375 7.515625 41.375 12.890625 \nQ 45.40625 18.265625 45.40625 27.984375 \nz\nM 54.390625 6.78125 \nQ 54.390625 -7.171875 48.1875 -13.984375 \nQ 42 -20.796875 29.203125 -20.796875 \nQ 24.46875 -20.796875 20.265625 -20.09375 \nQ 16.0625 -19.390625 12.109375 -17.921875 \nL 12.109375 -9.1875 \nQ 16.0625 -11.328125 19.921875 -12.34375 \nQ 23.78125 -13.375 27.78125 -13.375 \nQ 36.625 -13.375 41.015625 -8.765625 \nQ 45.40625 -4.15625 45.40625 5.171875 \nL 45.40625 9.625 \nQ 42.625 4.78125 38.28125 2.390625 \nQ 33.9375 0 27.875 0 \nQ 17.828125 0 11.671875 7.65625 \nQ 5.515625 15.328125 5.515625 27.984375 \nQ 5.515625 40.671875 11.671875 48.328125 \nQ 17.828125 56 27.875 56 \nQ 33.9375 56 38.28125 53.609375 \nQ 42.625 51.21875 45.40625 46.390625 \nL 45.40625 54.6875 \nL 54.390625 54.6875 \nz\n\" id=\"DejaVuSans-103\"/>\n      <path id=\"DejaVuSans-32\"/>\n      <path d=\"M 41.109375 46.296875 \nQ 39.59375 47.171875 37.8125 47.578125 \nQ 36.03125 48 33.890625 48 \nQ 26.265625 48 22.1875 43.046875 \nQ 18.109375 38.09375 18.109375 28.8125 \nL 18.109375 0 \nL 9.078125 0 \nL 9.078125 54.6875 \nL 18.109375 54.6875 \nL 18.109375 46.1875 \nQ 20.953125 51.171875 25.484375 53.578125 \nQ 30.03125 56 36.53125 56 \nQ 37.453125 56 38.578125 55.875 \nQ 39.703125 55.765625 41.0625 55.515625 \nz\n\" id=\"DejaVuSans-114\"/>\n      <path d=\"M 52 44.1875 \nQ 55.375 50.25 60.0625 53.125 \nQ 64.75 56 71.09375 56 \nQ 79.640625 56 84.28125 50.015625 \nQ 88.921875 44.046875 88.921875 33.015625 \nL 88.921875 0 \nL 79.890625 0 \nL 79.890625 32.71875 \nQ 79.890625 40.578125 77.09375 44.375 \nQ 74.3125 48.1875 68.609375 48.1875 \nQ 61.625 48.1875 57.5625 43.546875 \nQ 53.515625 38.921875 53.515625 30.90625 \nL 53.515625 0 \nL 44.484375 0 \nL 44.484375 32.71875 \nQ 44.484375 40.625 41.703125 44.40625 \nQ 38.921875 48.1875 33.109375 48.1875 \nQ 26.21875 48.1875 22.15625 43.53125 \nQ 18.109375 38.875 18.109375 30.90625 \nL 18.109375 0 \nL 9.078125 0 \nL 9.078125 54.6875 \nL 18.109375 54.6875 \nL 18.109375 46.1875 \nQ 21.1875 51.21875 25.484375 53.609375 \nQ 29.78125 56 35.6875 56 \nQ 41.65625 56 45.828125 52.96875 \nQ 50 49.953125 52 44.1875 \nz\n\" id=\"DejaVuSans-109\"/>\n      <path d=\"M 44.28125 53.078125 \nL 44.28125 44.578125 \nQ 40.484375 46.53125 36.375 47.5 \nQ 32.28125 48.484375 27.875 48.484375 \nQ 21.1875 48.484375 17.84375 46.4375 \nQ 14.5 44.390625 14.5 40.28125 \nQ 14.5 37.15625 16.890625 35.375 \nQ 19.28125 33.59375 26.515625 31.984375 \nL 29.59375 31.296875 \nQ 39.15625 29.25 43.1875 25.515625 \nQ 47.21875 21.78125 47.21875 15.09375 \nQ 47.21875 7.46875 41.1875 3.015625 \nQ 35.15625 -1.421875 24.609375 -1.421875 \nQ 20.21875 -1.421875 15.453125 -0.5625 \nQ 10.6875 0.296875 5.421875 2 \nL 5.421875 11.28125 \nQ 10.40625 8.6875 15.234375 7.390625 \nQ 20.0625 6.109375 24.8125 6.109375 \nQ 31.15625 6.109375 34.5625 8.28125 \nQ 37.984375 10.453125 37.984375 14.40625 \nQ 37.984375 18.0625 35.515625 20.015625 \nQ 33.0625 21.96875 24.703125 23.78125 \nL 21.578125 24.515625 \nQ 13.234375 26.265625 9.515625 29.90625 \nQ 5.8125 33.546875 5.8125 39.890625 \nQ 5.8125 47.609375 11.28125 51.796875 \nQ 16.75 56 26.8125 56 \nQ 31.78125 56 36.171875 55.265625 \nQ 40.578125 54.546875 44.28125 53.078125 \nz\n\" id=\"DejaVuSans-115\"/>\n     </defs>\n     <g transform=\"translate(14.798437 96.88125)rotate(-90)scale(0.1 -0.1)\">\n      <use xlink:href=\"#DejaVuSans-108\"/>\n      <use x=\"27.783203\" xlink:href=\"#DejaVuSans-111\"/>\n      <use x=\"88.964844\" xlink:href=\"#DejaVuSans-103\"/>\n      <use x=\"152.441406\" xlink:href=\"#DejaVuSans-32\"/>\n      <use x=\"184.228516\" xlink:href=\"#DejaVuSans-114\"/>\n      <use x=\"223.591797\" xlink:href=\"#DejaVuSans-109\"/>\n      <use x=\"321.003906\" xlink:href=\"#DejaVuSans-115\"/>\n      <use x=\"373.103516\" xlink:href=\"#DejaVuSans-101\"/>\n     </g>\n    </g>\n   </g>\n   <g id=\"line2d_15\">\n    <path clip-path=\"url(#p678054867d)\" d=\"M 62.478125 13.377273 \nL 84.178125 28.229079 \nL 105.878125 44.993422 \nL 127.578125 59.706662 \nL 149.278125 73.224114 \nL 170.978125 86.208832 \nL 192.678125 99.003958 \nL 214.378125 111.697734 \nL 236.078125 124.320423 \nL 257.778125 136.922727 \n\" style=\"fill:none;stroke:#1f77b4;stroke-linecap:square;stroke-width:1.5;\"/>\n   </g>\n   <g id=\"patch_3\">\n    <path d=\"M 62.478125 143.1 \nL 62.478125 7.2 \n\" style=\"fill:none;stroke:#000000;stroke-linecap:square;stroke-linejoin:miter;stroke-width:0.8;\"/>\n   </g>\n   <g id=\"patch_4\">\n    <path d=\"M 257.778125 143.1 \nL 257.778125 7.2 \n\" style=\"fill:none;stroke:#000000;stroke-linecap:square;stroke-linejoin:miter;stroke-width:0.8;\"/>\n   </g>\n   <g id=\"patch_5\">\n    <path d=\"M 62.478125 143.1 \nL 257.778125 143.1 \n\" style=\"fill:none;stroke:#000000;stroke-linecap:square;stroke-linejoin:miter;stroke-width:0.8;\"/>\n   </g>\n   <g id=\"patch_6\">\n    <path d=\"M 62.478125 7.2 \nL 257.778125 7.2 \n\" style=\"fill:none;stroke:#000000;stroke-linecap:square;stroke-linejoin:miter;stroke-width:0.8;\"/>\n   </g>\n  </g>\n </g>\n <defs>\n  <clipPath id=\"p678054867d\">\n   <rect height=\"135.9\" width=\"195.3\" x=\"62.478125\" y=\"7.2\"/>\n  </clipPath>\n </defs>\n</svg>\n"
          },
          "metadata": {
            "tags": [],
            "needs_background": "light"
          }
        }
      ]
    },
    {
      "cell_type": "markdown",
      "metadata": {
        "id": "WoTVGcyXlL6r"
      },
      "source": [
        "1.   0.16719\n",
        "2.   0.15213 (Learning rate: .01)\n",
        "3. 0.14134\n",
        "\n"
      ]
    },
    {
      "cell_type": "code",
      "metadata": {
        "id": "C8In1L7skPZ0"
      },
      "source": [
        "submission = pd.read_csv('submission.csv')"
      ],
      "execution_count": null,
      "outputs": []
    },
    {
      "cell_type": "code",
      "metadata": {
        "colab": {
          "base_uri": "https://localhost:8080/",
          "height": 414
        },
        "id": "IzLVzmI1nKIY",
        "outputId": "6f39ecf7-5005-4fde-e987-2b07d7a421aa"
      },
      "source": [
        "submission"
      ],
      "execution_count": null,
      "outputs": [
        {
          "output_type": "execute_result",
          "data": {
            "text/html": [
              "<div>\n",
              "<style scoped>\n",
              "    .dataframe tbody tr th:only-of-type {\n",
              "        vertical-align: middle;\n",
              "    }\n",
              "\n",
              "    .dataframe tbody tr th {\n",
              "        vertical-align: top;\n",
              "    }\n",
              "\n",
              "    .dataframe thead th {\n",
              "        text-align: right;\n",
              "    }\n",
              "</style>\n",
              "<table border=\"1\" class=\"dataframe\">\n",
              "  <thead>\n",
              "    <tr style=\"text-align: right;\">\n",
              "      <th></th>\n",
              "      <th>Id</th>\n",
              "      <th>SalePrice</th>\n",
              "    </tr>\n",
              "  </thead>\n",
              "  <tbody>\n",
              "    <tr>\n",
              "      <th>0</th>\n",
              "      <td>1461</td>\n",
              "      <td>118268.726562</td>\n",
              "    </tr>\n",
              "    <tr>\n",
              "      <th>1</th>\n",
              "      <td>1462</td>\n",
              "      <td>171593.421875</td>\n",
              "    </tr>\n",
              "    <tr>\n",
              "      <th>2</th>\n",
              "      <td>1463</td>\n",
              "      <td>183036.906250</td>\n",
              "    </tr>\n",
              "    <tr>\n",
              "      <th>3</th>\n",
              "      <td>1464</td>\n",
              "      <td>198919.781250</td>\n",
              "    </tr>\n",
              "    <tr>\n",
              "      <th>4</th>\n",
              "      <td>1465</td>\n",
              "      <td>192822.796875</td>\n",
              "    </tr>\n",
              "    <tr>\n",
              "      <th>...</th>\n",
              "      <td>...</td>\n",
              "      <td>...</td>\n",
              "    </tr>\n",
              "    <tr>\n",
              "      <th>1454</th>\n",
              "      <td>2915</td>\n",
              "      <td>83774.914062</td>\n",
              "    </tr>\n",
              "    <tr>\n",
              "      <th>1455</th>\n",
              "      <td>2916</td>\n",
              "      <td>84458.062500</td>\n",
              "    </tr>\n",
              "    <tr>\n",
              "      <th>1456</th>\n",
              "      <td>2917</td>\n",
              "      <td>178161.453125</td>\n",
              "    </tr>\n",
              "    <tr>\n",
              "      <th>1457</th>\n",
              "      <td>2918</td>\n",
              "      <td>117605.687500</td>\n",
              "    </tr>\n",
              "    <tr>\n",
              "      <th>1458</th>\n",
              "      <td>2919</td>\n",
              "      <td>213920.421875</td>\n",
              "    </tr>\n",
              "  </tbody>\n",
              "</table>\n",
              "<p>1459 rows × 2 columns</p>\n",
              "</div>"
            ],
            "text/plain": [
              "        Id      SalePrice\n",
              "0     1461  118268.726562\n",
              "1     1462  171593.421875\n",
              "2     1463  183036.906250\n",
              "3     1464  198919.781250\n",
              "4     1465  192822.796875\n",
              "...    ...            ...\n",
              "1454  2915   83774.914062\n",
              "1455  2916   84458.062500\n",
              "1456  2917  178161.453125\n",
              "1457  2918  117605.687500\n",
              "1458  2919  213920.421875\n",
              "\n",
              "[1459 rows x 2 columns]"
            ]
          },
          "metadata": {
            "tags": []
          },
          "execution_count": 154
        }
      ]
    },
    {
      "cell_type": "code",
      "metadata": {
        "colab": {
          "base_uri": "https://localhost:8080/"
        },
        "id": "xi7AC2-cndpv",
        "outputId": "baa5b312-95bb-4d39-b840-9ddec841aec7"
      },
      "source": [
        "log_train_labels"
      ],
      "execution_count": null,
      "outputs": [
        {
          "output_type": "execute_result",
          "data": {
            "text/plain": [
              "tensor([[12.2477],\n",
              "        [12.1090],\n",
              "        [12.3172],\n",
              "        ...,\n",
              "        [12.4931],\n",
              "        [11.8645],\n",
              "        [11.9016]])"
            ]
          },
          "metadata": {
            "tags": []
          },
          "execution_count": 82
        }
      ]
    },
    {
      "cell_type": "code",
      "metadata": {
        "colab": {
          "base_uri": "https://localhost:8080/"
        },
        "id": "lAy05nbspntl",
        "outputId": "add15d49-a2bf-4d99-f9d4-63d45a374b22"
      },
      "source": [
        "np.exp(log_train_labels)"
      ],
      "execution_count": null,
      "outputs": [
        {
          "output_type": "execute_result",
          "data": {
            "text/plain": [
              "tensor([[208499.9531],\n",
              "        [181499.9531],\n",
              "        [223499.9219],\n",
              "        ...,\n",
              "        [266500.0312],\n",
              "        [142124.9531],\n",
              "        [147500.0312]])"
            ]
          },
          "metadata": {
            "tags": []
          },
          "execution_count": 83
        }
      ]
    },
    {
      "cell_type": "code",
      "metadata": {
        "colab": {
          "base_uri": "https://localhost:8080/"
        },
        "id": "77VBphQCppwc",
        "outputId": "1e1de159-8e6b-48f5-d104-533cae147a21"
      },
      "source": [
        "train_labels"
      ],
      "execution_count": null,
      "outputs": [
        {
          "output_type": "execute_result",
          "data": {
            "text/plain": [
              "tensor([[208500.],\n",
              "        [181500.],\n",
              "        [223500.],\n",
              "        ...,\n",
              "        [266500.],\n",
              "        [142125.],\n",
              "        [147500.]])"
            ]
          },
          "metadata": {
            "tags": []
          },
          "execution_count": 84
        }
      ]
    },
    {
      "cell_type": "code",
      "metadata": {
        "id": "W9PQV6K_pr-c"
      },
      "source": [
        ""
      ],
      "execution_count": null,
      "outputs": []
    }
  ]
}